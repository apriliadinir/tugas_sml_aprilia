{
 "cells": [
  {
   "cell_type": "markdown",
   "metadata": {},
   "source": [
    "# Deteksi Anomali menggunakan semi supervised learning"
   ]
  },
  {
   "cell_type": "markdown",
   "metadata": {},
   "source": [
    "## Import Libraries and Dataset"
   ]
  },
  {
   "cell_type": "code",
   "execution_count": 1,
   "metadata": {
    "id": "eXTUAUPT-1ia"
   },
   "outputs": [],
   "source": [
    "# Data manipulation\n",
    "import numpy as np\n",
    "import pandas as pd\n",
    "\n",
    "# Data visualization\n",
    "import matplotlib as mpl\n",
    "import matplotlib.dates as md\n",
    "import matplotlib.pyplot as plt\n",
    "import seaborn as sns\n",
    "\n",
    "\n",
    "# Data preprocessing\n",
    "from sklearn import preprocessing\n",
    "from sklearn.preprocessing import StandardScaler\n",
    "from sklearn.preprocessing import MinMaxScaler\n",
    "\n",
    "# Unsupervised (Machine) Learning\n",
    "from sklearn.cluster import KMeans\n",
    "from sklearn.metrics import silhouette_score\n",
    "from sklearn.neighbors import LocalOutlierFactor\n",
    "from sklearn.ensemble import IsolationForest\n",
    "\n",
    "# Metrics (distance) and stats\n",
    "from scipy.spatial.distance import euclidean\n",
    "from scipy.stats import median_abs_deviation\n",
    "\n",
    "# Visualize in a two-dimensional space\n",
    "from sklearn.decomposition import PCA\n",
    "\n",
    "# Ignore warnings (only for presentation)\n",
    "import warnings\n",
    "warnings.filterwarnings('ignore')"
   ]
  },
  {
   "cell_type": "code",
   "execution_count": 2,
   "metadata": {
    "id": "mGXY-kMm_diF"
   },
   "outputs": [],
   "source": [
    "df = pd.read_csv('C:/Users/April/Downloads/machine_temperature_system_failure.csv')"
   ]
  },
  {
   "cell_type": "code",
   "execution_count": 3,
   "metadata": {
    "colab": {
     "base_uri": "https://localhost:8080/"
    },
    "id": "ckLzP6f3_zl0",
    "outputId": "993e1af1-5de1-4f75-c03e-99d5e38df3a3"
   },
   "outputs": [
    {
     "name": "stdout",
     "output_type": "stream",
     "text": [
      "<class 'pandas.core.frame.DataFrame'>\n",
      "RangeIndex: 22695 entries, 0 to 22694\n",
      "Data columns (total 2 columns):\n",
      " #   Column     Non-Null Count  Dtype  \n",
      "---  ------     --------------  -----  \n",
      " 0   timestamp  22695 non-null  object \n",
      " 1   value      22695 non-null  float64\n",
      "dtypes: float64(1), object(1)\n",
      "memory usage: 354.7+ KB\n"
     ]
    }
   ],
   "source": [
    "df.info()"
   ]
  },
  {
   "cell_type": "markdown",
   "metadata": {
    "id": "GoPeFpI7_2vW"
   },
   "source": [
    "observasi:\n",
    "data set terdiri dari 22695 data. \n",
    "kita perlu melakukan feature engineering pada kolom timestamp,\n",
    "kolom value berisi data dengan tipe float"
   ]
  },
  {
   "cell_type": "code",
   "execution_count": 4,
   "metadata": {
    "colab": {
     "base_uri": "https://localhost:8080/",
     "height": 300
    },
    "id": "8NxTHTVyAVIJ",
    "outputId": "b8251c05-a31f-43ca-fdd4-b543b8286506"
   },
   "outputs": [
    {
     "data": {
      "text/html": [
       "<div>\n",
       "<style scoped>\n",
       "    .dataframe tbody tr th:only-of-type {\n",
       "        vertical-align: middle;\n",
       "    }\n",
       "\n",
       "    .dataframe tbody tr th {\n",
       "        vertical-align: top;\n",
       "    }\n",
       "\n",
       "    .dataframe thead th {\n",
       "        text-align: right;\n",
       "    }\n",
       "</style>\n",
       "<table border=\"1\" class=\"dataframe\">\n",
       "  <thead>\n",
       "    <tr style=\"text-align: right;\">\n",
       "      <th></th>\n",
       "      <th>value</th>\n",
       "    </tr>\n",
       "  </thead>\n",
       "  <tbody>\n",
       "    <tr>\n",
       "      <th>count</th>\n",
       "      <td>22695.000000</td>\n",
       "    </tr>\n",
       "    <tr>\n",
       "      <th>mean</th>\n",
       "      <td>85.926498</td>\n",
       "    </tr>\n",
       "    <tr>\n",
       "      <th>std</th>\n",
       "      <td>13.746912</td>\n",
       "    </tr>\n",
       "    <tr>\n",
       "      <th>min</th>\n",
       "      <td>2.084721</td>\n",
       "    </tr>\n",
       "    <tr>\n",
       "      <th>25%</th>\n",
       "      <td>83.080078</td>\n",
       "    </tr>\n",
       "    <tr>\n",
       "      <th>50%</th>\n",
       "      <td>89.408246</td>\n",
       "    </tr>\n",
       "    <tr>\n",
       "      <th>75%</th>\n",
       "      <td>94.016252</td>\n",
       "    </tr>\n",
       "    <tr>\n",
       "      <th>max</th>\n",
       "      <td>108.510543</td>\n",
       "    </tr>\n",
       "  </tbody>\n",
       "</table>\n",
       "</div>"
      ],
      "text/plain": [
       "              value\n",
       "count  22695.000000\n",
       "mean      85.926498\n",
       "std       13.746912\n",
       "min        2.084721\n",
       "25%       83.080078\n",
       "50%       89.408246\n",
       "75%       94.016252\n",
       "max      108.510543"
      ]
     },
     "execution_count": 4,
     "metadata": {},
     "output_type": "execute_result"
    }
   ],
   "source": [
    "df.describe()"
   ]
  },
  {
   "cell_type": "markdown",
   "metadata": {
    "id": "QG2mkkSjAdE-"
   },
   "source": [
    "Obervasi = \n",
    "\n",
    "1.   Nilai temperature mesin pada dataset dalam fahrenheit  \n",
    "2.   temperatur mesin paling rendah mencapai 2.08 derajat fahrenheit, dan nilai paling tinggi mencapai 108 derajat fahrenheit\n",
    "\n"
   ]
  },
  {
   "cell_type": "code",
   "execution_count": 5,
   "metadata": {
    "colab": {
     "base_uri": "https://localhost:8080/",
     "height": 206
    },
    "id": "1lG6hUz0Ey2b",
    "outputId": "61eecbe6-8afa-4c96-b44b-f5c93ea4222f"
   },
   "outputs": [
    {
     "data": {
      "text/html": [
       "<div>\n",
       "<style scoped>\n",
       "    .dataframe tbody tr th:only-of-type {\n",
       "        vertical-align: middle;\n",
       "    }\n",
       "\n",
       "    .dataframe tbody tr th {\n",
       "        vertical-align: top;\n",
       "    }\n",
       "\n",
       "    .dataframe thead th {\n",
       "        text-align: right;\n",
       "    }\n",
       "</style>\n",
       "<table border=\"1\" class=\"dataframe\">\n",
       "  <thead>\n",
       "    <tr style=\"text-align: right;\">\n",
       "      <th></th>\n",
       "      <th>timestamp</th>\n",
       "      <th>value</th>\n",
       "    </tr>\n",
       "  </thead>\n",
       "  <tbody>\n",
       "    <tr>\n",
       "      <th>0</th>\n",
       "      <td>2013-12-02 21:15:00</td>\n",
       "      <td>73.967322</td>\n",
       "    </tr>\n",
       "    <tr>\n",
       "      <th>1</th>\n",
       "      <td>2013-12-02 21:20:00</td>\n",
       "      <td>74.935882</td>\n",
       "    </tr>\n",
       "    <tr>\n",
       "      <th>2</th>\n",
       "      <td>2013-12-02 21:25:00</td>\n",
       "      <td>76.124162</td>\n",
       "    </tr>\n",
       "    <tr>\n",
       "      <th>3</th>\n",
       "      <td>2013-12-02 21:30:00</td>\n",
       "      <td>78.140707</td>\n",
       "    </tr>\n",
       "    <tr>\n",
       "      <th>4</th>\n",
       "      <td>2013-12-02 21:35:00</td>\n",
       "      <td>79.329836</td>\n",
       "    </tr>\n",
       "  </tbody>\n",
       "</table>\n",
       "</div>"
      ],
      "text/plain": [
       "             timestamp      value\n",
       "0  2013-12-02 21:15:00  73.967322\n",
       "1  2013-12-02 21:20:00  74.935882\n",
       "2  2013-12-02 21:25:00  76.124162\n",
       "3  2013-12-02 21:30:00  78.140707\n",
       "4  2013-12-02 21:35:00  79.329836"
      ]
     },
     "execution_count": 5,
     "metadata": {},
     "output_type": "execute_result"
    }
   ],
   "source": [
    "df.head()"
   ]
  },
  {
   "cell_type": "markdown",
   "metadata": {},
   "source": [
    "## EDA and Preprocessing"
   ]
  },
  {
   "cell_type": "code",
   "execution_count": 6,
   "metadata": {
    "colab": {
     "base_uri": "https://localhost:8080/",
     "height": 350
    },
    "id": "KpkL2R25_1wA",
    "outputId": "358e832a-18f5-4529-b8cf-e4c04dfa68aa"
   },
   "outputs": [
    {
     "data": {
      "image/png": "[encoded data removed]",
      "text/plain": [
       "<Figure size 720x360 with 1 Axes>"
      ]
     },
     "metadata": {
      "needs_background": "light"
     },
     "output_type": "display_data"
    }
   ],
   "source": [
    "#Visualize the data\n",
    "figsize=(10,5)\n",
    "df.plot(x='timestamp', y='value', figsize=figsize, title='Temperature (Degree Farenhite)');\n",
    "plt.axhline(y = df['value'].mean(), color = 'red', linestyle = 'dashdot',label='Mean Temperature')\n",
    "plt.axhline(y = df['value'].max(), color = 'purple', linestyle = 'dashdot',label='Max Temperature')\n",
    "plt.axhline(y = df['value'].min(), color = 'purple', linestyle = 'dashdot',label='Min Temperature')\n",
    "plt.xlabel('datetime')\n",
    "plt.ylabel('temperature(F)')\n",
    "plt.legend()\n",
    "plt.title('Machine temperature ')\n",
    "plt.grid();\n",
    "plt.show();"
   ]
  },
  {
   "cell_type": "markdown",
   "metadata": {
    "id": "2Y6KXjozFapV"
   },
   "source": [
    "### Preprocessing"
   ]
  },
  {
   "cell_type": "code",
   "execution_count": 7,
   "metadata": {
    "colab": {
     "base_uri": "https://localhost:8080/",
     "height": 350
    },
    "id": "-mEiAUL2E17t",
    "outputId": "1db15cc6-c484-4658-bd0f-9928fbfa6d86"
   },
   "outputs": [
    {
     "data": {
      "image/png": "[encoded data removed]",
      "text/plain": [
       "<Figure size 720x360 with 1 Axes>"
      ]
     },
     "metadata": {
      "needs_background": "light"
     },
     "output_type": "display_data"
    }
   ],
   "source": [
    "#Changing the type of timestamp column for visualization\n",
    "df['timestamp'] = pd.to_datetime(df['timestamp'])\n",
    "df['value'] = (df['value'] - 32) * 5/9\n",
    "df.plot(x='timestamp', y='value', figsize=figsize);\n",
    "plt.axhline(y = df['value'].mean(), color = 'red', linestyle = 'dashdot',label='Mean Temperature')\n",
    "plt.axhline(y = df['value'].max(), color = 'purple', linestyle = 'dashdot',label='Max Temperature')\n",
    "plt.axhline(y = df['value'].min(), color = 'purple', linestyle = 'dashdot',label='Min Temperature')\n",
    "plt.xlabel('datetime')\n",
    "plt.ylabel('temperature(F)')\n",
    "plt.legend()\n",
    "plt.title('Machine temperature (Degree Celcius) ')\n",
    "plt.grid();\n",
    "plt.show();"
   ]
  },
  {
   "cell_type": "code",
   "execution_count": 8,
   "metadata": {
    "id": "p0g4cjo9GCbt"
   },
   "outputs": [],
   "source": [
    "#Detailing date time\n",
    "\n",
    "df['year'] = df['timestamp'].apply(lambda x : x.year)\n",
    "df['month'] = df['timestamp'].apply(lambda x : x.month)\n",
    "df['day'] = df['timestamp'].apply(lambda x : x.day)\n",
    "df['hour'] = df['timestamp'].apply(lambda x : x.hour)\n",
    "df['minute'] = df['timestamp'].apply(lambda x : x.minute)\n",
    "df['dayofweek'] = pd.to_datetime(df['timestamp']).apply(lambda x: x.weekday())"
   ]
  },
  {
   "cell_type": "code",
   "execution_count": 9,
   "metadata": {
    "id": "qv2gQfF4R1Ot"
   },
   "outputs": [],
   "source": [
    "df['daylight'] = ((df['hour']>=7) & (df['hour']<=22)).astype(int)\n",
    "df['weekday'] = (df['dayofweek'] < 5).astype(int)"
   ]
  },
  {
   "cell_type": "code",
   "execution_count": 10,
   "metadata": {
    "id": "iW4Rfuj5S746"
   },
   "outputs": [],
   "source": [
    "df['time_epoch']= (df['timestamp'].view(np.int64)/100000000000).astype(np.int64)"
   ]
  },
  {
   "cell_type": "code",
   "execution_count": 11,
   "metadata": {
    "id": "06MV5PBmY7rB"
   },
   "outputs": [],
   "source": [
    "## creation of 4 distinct categories for insight (week end/day week & night/day)\n",
    "df['categories'] = df['weekday']*2+df['daylight']\n",
    "\n",
    "a = df.loc[df['categories'] == 0, 'value']\n",
    "b = df.loc[df['categories'] == 1, 'value']\n",
    "c = df.loc[df['categories'] == 2, 'value']\n",
    "d = df.loc[df['categories'] == 3, 'value']"
   ]
  },
  {
   "cell_type": "code",
   "execution_count": 12,
   "metadata": {
    "colab": {
     "base_uri": "https://localhost:8080/",
     "height": 206
    },
    "id": "q4wmOk4uzKcS",
    "outputId": "36bbedea-2e68-4771-9594-63b5b2c7308d"
   },
   "outputs": [
    {
     "data": {
      "text/html": [
       "<div>\n",
       "<style scoped>\n",
       "    .dataframe tbody tr th:only-of-type {\n",
       "        vertical-align: middle;\n",
       "    }\n",
       "\n",
       "    .dataframe tbody tr th {\n",
       "        vertical-align: top;\n",
       "    }\n",
       "\n",
       "    .dataframe thead th {\n",
       "        text-align: right;\n",
       "    }\n",
       "</style>\n",
       "<table border=\"1\" class=\"dataframe\">\n",
       "  <thead>\n",
       "    <tr style=\"text-align: right;\">\n",
       "      <th></th>\n",
       "      <th>timestamp</th>\n",
       "      <th>value</th>\n",
       "      <th>year</th>\n",
       "      <th>month</th>\n",
       "      <th>day</th>\n",
       "      <th>hour</th>\n",
       "      <th>minute</th>\n",
       "      <th>dayofweek</th>\n",
       "      <th>daylight</th>\n",
       "      <th>weekday</th>\n",
       "      <th>time_epoch</th>\n",
       "      <th>categories</th>\n",
       "    </tr>\n",
       "  </thead>\n",
       "  <tbody>\n",
       "    <tr>\n",
       "      <th>0</th>\n",
       "      <td>2013-12-02 21:15:00</td>\n",
       "      <td>23.315179</td>\n",
       "      <td>2013</td>\n",
       "      <td>12</td>\n",
       "      <td>2</td>\n",
       "      <td>21</td>\n",
       "      <td>15</td>\n",
       "      <td>0</td>\n",
       "      <td>1</td>\n",
       "      <td>1</td>\n",
       "      <td>13860189</td>\n",
       "      <td>3</td>\n",
       "    </tr>\n",
       "    <tr>\n",
       "      <th>1</th>\n",
       "      <td>2013-12-02 21:20:00</td>\n",
       "      <td>23.853268</td>\n",
       "      <td>2013</td>\n",
       "      <td>12</td>\n",
       "      <td>2</td>\n",
       "      <td>21</td>\n",
       "      <td>20</td>\n",
       "      <td>0</td>\n",
       "      <td>1</td>\n",
       "      <td>1</td>\n",
       "      <td>13860192</td>\n",
       "      <td>3</td>\n",
       "    </tr>\n",
       "    <tr>\n",
       "      <th>2</th>\n",
       "      <td>2013-12-02 21:25:00</td>\n",
       "      <td>24.513423</td>\n",
       "      <td>2013</td>\n",
       "      <td>12</td>\n",
       "      <td>2</td>\n",
       "      <td>21</td>\n",
       "      <td>25</td>\n",
       "      <td>0</td>\n",
       "      <td>1</td>\n",
       "      <td>1</td>\n",
       "      <td>13860195</td>\n",
       "      <td>3</td>\n",
       "    </tr>\n",
       "    <tr>\n",
       "      <th>3</th>\n",
       "      <td>2013-12-02 21:30:00</td>\n",
       "      <td>25.633726</td>\n",
       "      <td>2013</td>\n",
       "      <td>12</td>\n",
       "      <td>2</td>\n",
       "      <td>21</td>\n",
       "      <td>30</td>\n",
       "      <td>0</td>\n",
       "      <td>1</td>\n",
       "      <td>1</td>\n",
       "      <td>13860198</td>\n",
       "      <td>3</td>\n",
       "    </tr>\n",
       "    <tr>\n",
       "      <th>4</th>\n",
       "      <td>2013-12-02 21:35:00</td>\n",
       "      <td>26.294353</td>\n",
       "      <td>2013</td>\n",
       "      <td>12</td>\n",
       "      <td>2</td>\n",
       "      <td>21</td>\n",
       "      <td>35</td>\n",
       "      <td>0</td>\n",
       "      <td>1</td>\n",
       "      <td>1</td>\n",
       "      <td>13860201</td>\n",
       "      <td>3</td>\n",
       "    </tr>\n",
       "  </tbody>\n",
       "</table>\n",
       "</div>"
      ],
      "text/plain": [
       "            timestamp      value  year  month  day  hour  minute  dayofweek  \\\n",
       "0 2013-12-02 21:15:00  23.315179  2013     12    2    21      15          0   \n",
       "1 2013-12-02 21:20:00  23.853268  2013     12    2    21      20          0   \n",
       "2 2013-12-02 21:25:00  24.513423  2013     12    2    21      25          0   \n",
       "3 2013-12-02 21:30:00  25.633726  2013     12    2    21      30          0   \n",
       "4 2013-12-02 21:35:00  26.294353  2013     12    2    21      35          0   \n",
       "\n",
       "   daylight  weekday  time_epoch  categories  \n",
       "0         1        1    13860189           3  \n",
       "1         1        1    13860192           3  \n",
       "2         1        1    13860195           3  \n",
       "3         1        1    13860198           3  \n",
       "4         1        1    13860201           3  "
      ]
     },
     "execution_count": 12,
     "metadata": {},
     "output_type": "execute_result"
    }
   ],
   "source": [
    "df.head()"
   ]
  },
  {
   "cell_type": "code",
   "execution_count": 13,
   "metadata": {
    "colab": {
     "base_uri": "https://localhost:8080/"
    },
    "id": "SnEbdrQJz-30",
    "outputId": "eec77aea-3f35-4e85-e540-9c37685049a4"
   },
   "outputs": [
    {
     "data": {
      "text/plain": [
       "1    16359\n",
       "0     6336\n",
       "Name: weekday, dtype: int64"
      ]
     },
     "execution_count": 13,
     "metadata": {},
     "output_type": "execute_result"
    }
   ],
   "source": [
    "df['weekday'].value_counts()"
   ]
  },
  {
   "cell_type": "code",
   "execution_count": 14,
   "metadata": {
    "colab": {
     "base_uri": "https://localhost:8080/",
     "height": 592
    },
    "id": "0SbN5DcmZLif",
    "outputId": "55d54467-660b-4754-b4d1-4720ee32fe0c"
   },
   "outputs": [
    {
     "data": {
      "image/png": "[encoded data removed]",
      "text/plain": [
       "<Figure size 1440x720 with 1 Axes>"
      ]
     },
     "metadata": {
      "needs_background": "light"
     },
     "output_type": "display_data"
    }
   ],
   "source": [
    "fig, ax = plt.subplots(figsize=(20,10))\n",
    "a_heights, a_bins = np.histogram(a)\n",
    "b_heights, b_bins = np.histogram(b, bins=a_bins)\n",
    "c_heights, c_bins = np.histogram(c, bins=a_bins)\n",
    "d_heights, d_bins = np.histogram(d, bins=a_bins)\n",
    "\n",
    "width = (a_bins[1] - a_bins[0])/6\n",
    "\n",
    "ax.bar(a_bins[:-1], a_heights*100/a.count(), width=width, label='WeekEndNight')\n",
    "ax.bar(b_bins[:-1]+width, (b_heights*100/b.count()), width=width, label ='WeekEndLight')\n",
    "ax.bar(c_bins[:-1]+width*2, (c_heights*100/c.count()), width=width, label ='WeekDayNight')\n",
    "ax.bar(d_bins[:-1]+width*3, (d_heights*100/d.count()), width=width, label ='WeekDayLight')\n",
    "\n",
    "plt.legend()\n",
    "plt.show()"
   ]
  },
  {
   "cell_type": "markdown",
   "metadata": {
    "id": "8lZFf5xHyQyv"
   },
   "source": [
    "Observasi:\n",
    "Temperatur machine lebih stabil saat weekday daylight"
   ]
  },
  {
   "cell_type": "code",
   "execution_count": 15,
   "metadata": {},
   "outputs": [
    {
     "data": {
      "text/html": [
       "<div>\n",
       "<style scoped>\n",
       "    .dataframe tbody tr th:only-of-type {\n",
       "        vertical-align: middle;\n",
       "    }\n",
       "\n",
       "    .dataframe tbody tr th {\n",
       "        vertical-align: top;\n",
       "    }\n",
       "\n",
       "    .dataframe thead th {\n",
       "        text-align: right;\n",
       "    }\n",
       "</style>\n",
       "<table border=\"1\" class=\"dataframe\">\n",
       "  <thead>\n",
       "    <tr style=\"text-align: right;\">\n",
       "      <th></th>\n",
       "      <th>timestamp</th>\n",
       "      <th>value</th>\n",
       "      <th>year</th>\n",
       "      <th>month</th>\n",
       "      <th>day</th>\n",
       "      <th>hour</th>\n",
       "      <th>minute</th>\n",
       "      <th>dayofweek</th>\n",
       "      <th>daylight</th>\n",
       "      <th>weekday</th>\n",
       "      <th>time_epoch</th>\n",
       "      <th>categories</th>\n",
       "    </tr>\n",
       "  </thead>\n",
       "  <tbody>\n",
       "    <tr>\n",
       "      <th>9238</th>\n",
       "      <td>2014-01-03 23:05:00</td>\n",
       "      <td>33.310886</td>\n",
       "      <td>2014</td>\n",
       "      <td>1</td>\n",
       "      <td>3</td>\n",
       "      <td>23</td>\n",
       "      <td>5</td>\n",
       "      <td>4</td>\n",
       "      <td>0</td>\n",
       "      <td>1</td>\n",
       "      <td>13887903</td>\n",
       "      <td>2</td>\n",
       "    </tr>\n",
       "    <tr>\n",
       "      <th>8417</th>\n",
       "      <td>2014-01-01 02:40:00</td>\n",
       "      <td>33.616463</td>\n",
       "      <td>2014</td>\n",
       "      <td>1</td>\n",
       "      <td>1</td>\n",
       "      <td>2</td>\n",
       "      <td>40</td>\n",
       "      <td>2</td>\n",
       "      <td>0</td>\n",
       "      <td>1</td>\n",
       "      <td>13885440</td>\n",
       "      <td>2</td>\n",
       "    </tr>\n",
       "    <tr>\n",
       "      <th>4693</th>\n",
       "      <td>2013-12-19 04:20:00</td>\n",
       "      <td>39.525565</td>\n",
       "      <td>2013</td>\n",
       "      <td>12</td>\n",
       "      <td>19</td>\n",
       "      <td>4</td>\n",
       "      <td>20</td>\n",
       "      <td>3</td>\n",
       "      <td>0</td>\n",
       "      <td>1</td>\n",
       "      <td>13874268</td>\n",
       "      <td>2</td>\n",
       "    </tr>\n",
       "  </tbody>\n",
       "</table>\n",
       "</div>"
      ],
      "text/plain": [
       "               timestamp      value  year  month  day  hour  minute  \\\n",
       "9238 2014-01-03 23:05:00  33.310886  2014      1    3    23       5   \n",
       "8417 2014-01-01 02:40:00  33.616463  2014      1    1     2      40   \n",
       "4693 2013-12-19 04:20:00  39.525565  2013     12   19     4      20   \n",
       "\n",
       "      dayofweek  daylight  weekday  time_epoch  categories  \n",
       "9238          4         0        1    13887903           2  \n",
       "8417          2         0        1    13885440           2  \n",
       "4693          3         0        1    13874268           2  "
      ]
     },
     "execution_count": 15,
     "metadata": {},
     "output_type": "execute_result"
    }
   ],
   "source": [
    "df.sample(3)"
   ]
  },
  {
   "cell_type": "markdown",
   "metadata": {
    "id": "7jxadfKG3boq"
   },
   "source": [
    "## Cluster and Anomaly"
   ]
  },
  {
   "cell_type": "markdown",
   "metadata": {},
   "source": [
    "Prinsip menentukan anomaly: \n",
    "<br> 1. Dataset akan dibuat kedalam beberapa group (centroids)\n",
    "<br> 2. Menghitung jarak tiap data pada masing-masing centroids\n",
    "<br> 3. Data dengan jarak palingjauh dari centroids akan dikategorikan sebagai anomali"
   ]
  },
  {
   "cell_type": "markdown",
   "metadata": {},
   "source": [
    "### K-Means Clustering"
   ]
  },
  {
   "cell_type": "markdown",
   "metadata": {},
   "source": [
    "**1. Menentukan jumlah cluster menggunakan elbow method dan silhouette score**"
   ]
  },
  {
   "cell_type": "code",
   "execution_count": 16,
   "metadata": {
    "id": "HbAOHD_d3jWh"
   },
   "outputs": [],
   "source": [
    "# Take useful feature and standardize them\n",
    "raw = df[['value', 'hour', 'daylight', 'dayofweek', 'weekday']]\n",
    "min_max_scaler = preprocessing.StandardScaler()\n",
    "np_scaled = min_max_scaler.fit_transform(raw)\n",
    "raw = pd.DataFrame(np_scaled)\n",
    "\n",
    "# reduce to 2 importants features\n",
    "pca = PCA(n_components=2)\n",
    "data = pca.fit_transform(raw)\n",
    "\n",
    "# standardize these 2 new features\n",
    "min_max_scaler = preprocessing.StandardScaler()\n",
    "np_scaled = min_max_scaler.fit_transform(raw)\n",
    "raw = pd.DataFrame(np_scaled)"
   ]
  },
  {
   "cell_type": "code",
   "execution_count": 17,
   "metadata": {},
   "outputs": [],
   "source": [
    "data = raw.copy()"
   ]
  },
  {
   "cell_type": "code",
   "execution_count": 18,
   "metadata": {
    "colab": {
     "base_uri": "https://localhost:8080/",
     "height": 265
    },
    "id": "mJvnepJv4M6I",
    "outputId": "ef4cf958-357d-4f17-a65b-661a799a4cf6"
   },
   "outputs": [
    {
     "data": {
      "image/png": "[encoded data removed]",
      "text/plain": [
       "<Figure size 432x288 with 1 Axes>"
      ]
     },
     "metadata": {
      "needs_background": "light"
     },
     "output_type": "display_data"
    }
   ],
   "source": [
    "# calculate with different number of centroids to see the loss plot (elbow method)\n",
    "n_cluster = range(1, 20)\n",
    "kmeans = [KMeans(n_clusters=i).fit(data) for i in n_cluster]\n",
    "scores = [kmeans[i].score(data) for i in range(len(kmeans))]\n",
    "fig, ax = plt.subplots()\n",
    "ax.plot(n_cluster, scores)\n",
    "plt.show()"
   ]
  },
  {
   "cell_type": "code",
   "execution_count": 19,
   "metadata": {
    "id": "__HJBvXzaeKD"
   },
   "outputs": [],
   "source": [
    "#define silhouette score\n",
    "\n",
    "from sklearn.metrics import silhouette_score\n",
    "\n",
    "def silhouette_score_func(estimator, X):\n",
    "    labels = estimator.fit_predict(X)\n",
    "    return silhouette_score(X, labels, metric='euclidean')"
   ]
  },
  {
   "cell_type": "code",
   "execution_count": 20,
   "metadata": {
    "colab": {
     "base_uri": "https://localhost:8080/",
     "height": 1000
    },
    "id": "xuQNVNTpamBb",
    "outputId": "290b44a5-bb76-4a00-f60f-59e7564f915b"
   },
   "outputs": [
    {
     "data": {
      "text/html": [
       "<div>\n",
       "<style scoped>\n",
       "    .dataframe tbody tr th:only-of-type {\n",
       "        vertical-align: middle;\n",
       "    }\n",
       "\n",
       "    .dataframe tbody tr th {\n",
       "        vertical-align: top;\n",
       "    }\n",
       "\n",
       "    .dataframe thead th {\n",
       "        text-align: right;\n",
       "    }\n",
       "</style>\n",
       "<table border=\"1\" class=\"dataframe\">\n",
       "  <thead>\n",
       "    <tr style=\"text-align: right;\">\n",
       "      <th></th>\n",
       "      <th>KMeans__n_clusters</th>\n",
       "      <th>silhouette_score</th>\n",
       "    </tr>\n",
       "  </thead>\n",
       "  <tbody>\n",
       "    <tr>\n",
       "      <th>4</th>\n",
       "      <td>5</td>\n",
       "      <td>0.466361</td>\n",
       "    </tr>\n",
       "    <tr>\n",
       "      <th>5</th>\n",
       "      <td>6</td>\n",
       "      <td>0.462721</td>\n",
       "    </tr>\n",
       "    <tr>\n",
       "      <th>3</th>\n",
       "      <td>4</td>\n",
       "      <td>0.432073</td>\n",
       "    </tr>\n",
       "    <tr>\n",
       "      <th>2</th>\n",
       "      <td>3</td>\n",
       "      <td>0.414638</td>\n",
       "    </tr>\n",
       "    <tr>\n",
       "      <th>6</th>\n",
       "      <td>7</td>\n",
       "      <td>0.408796</td>\n",
       "    </tr>\n",
       "    <tr>\n",
       "      <th>7</th>\n",
       "      <td>8</td>\n",
       "      <td>0.398655</td>\n",
       "    </tr>\n",
       "    <tr>\n",
       "      <th>8</th>\n",
       "      <td>9</td>\n",
       "      <td>0.392070</td>\n",
       "    </tr>\n",
       "    <tr>\n",
       "      <th>9</th>\n",
       "      <td>10</td>\n",
       "      <td>0.385936</td>\n",
       "    </tr>\n",
       "    <tr>\n",
       "      <th>16</th>\n",
       "      <td>17</td>\n",
       "      <td>0.385219</td>\n",
       "    </tr>\n",
       "    <tr>\n",
       "      <th>15</th>\n",
       "      <td>16</td>\n",
       "      <td>0.383744</td>\n",
       "    </tr>\n",
       "    <tr>\n",
       "      <th>17</th>\n",
       "      <td>18</td>\n",
       "      <td>0.378600</td>\n",
       "    </tr>\n",
       "    <tr>\n",
       "      <th>1</th>\n",
       "      <td>2</td>\n",
       "      <td>0.378052</td>\n",
       "    </tr>\n",
       "    <tr>\n",
       "      <th>18</th>\n",
       "      <td>19</td>\n",
       "      <td>0.377789</td>\n",
       "    </tr>\n",
       "    <tr>\n",
       "      <th>14</th>\n",
       "      <td>15</td>\n",
       "      <td>0.374030</td>\n",
       "    </tr>\n",
       "    <tr>\n",
       "      <th>13</th>\n",
       "      <td>14</td>\n",
       "      <td>0.370933</td>\n",
       "    </tr>\n",
       "    <tr>\n",
       "      <th>12</th>\n",
       "      <td>13</td>\n",
       "      <td>0.370128</td>\n",
       "    </tr>\n",
       "    <tr>\n",
       "      <th>11</th>\n",
       "      <td>12</td>\n",
       "      <td>0.369030</td>\n",
       "    </tr>\n",
       "    <tr>\n",
       "      <th>10</th>\n",
       "      <td>11</td>\n",
       "      <td>0.358518</td>\n",
       "    </tr>\n",
       "    <tr>\n",
       "      <th>0</th>\n",
       "      <td>1</td>\n",
       "      <td>NaN</td>\n",
       "    </tr>\n",
       "  </tbody>\n",
       "</table>\n",
       "</div>"
      ],
      "text/plain": [
       "    KMeans__n_clusters  silhouette_score\n",
       "4                    5          0.466361\n",
       "5                    6          0.462721\n",
       "3                    4          0.432073\n",
       "2                    3          0.414638\n",
       "6                    7          0.408796\n",
       "7                    8          0.398655\n",
       "8                    9          0.392070\n",
       "9                   10          0.385936\n",
       "16                  17          0.385219\n",
       "15                  16          0.383744\n",
       "17                  18          0.378600\n",
       "1                    2          0.378052\n",
       "18                  19          0.377789\n",
       "14                  15          0.374030\n",
       "13                  14          0.370933\n",
       "12                  13          0.370128\n",
       "11                  12          0.369030\n",
       "10                  11          0.358518\n",
       "0                    1               NaN"
      ]
     },
     "execution_count": 20,
     "metadata": {},
     "output_type": "execute_result"
    }
   ],
   "source": [
    "from sklearn.model_selection import GridSearchCV\n",
    "from sklearn.pipeline import Pipeline\n",
    "from sklearn.cluster import KMeans\n",
    "\n",
    "n_clusters = range(1, 20)\n",
    "\n",
    "param_grid = {\n",
    "    'KMeans__n_clusters': n_clusters, \n",
    "}\n",
    "\n",
    "estimator = Pipeline([('KMeans', KMeans())])\n",
    "\n",
    "cv = [(slice(None), slice(None))]\n",
    "grid = GridSearchCV(estimator, \n",
    "                    param_grid=param_grid,\n",
    "                    cv=cv,\n",
    "                    return_train_score=True,                    \n",
    "                    scoring=silhouette_score_func)\n",
    "\n",
    "grid.fit(data)\n",
    "scores_result_df = pd.concat(\n",
    "    [pd.DataFrame(grid.cv_results_[\"params\"]),\n",
    "     pd.DataFrame(grid.cv_results_[\"mean_train_score\"], \n",
    "                  columns=[\"silhouette_score\"])],axis=1)\n",
    "\n",
    "scores_result_df.sort_values(by=['silhouette_score'], ascending=False, inplace=True)\n",
    "scores_result_df.head(20)"
   ]
  },
  {
   "cell_type": "markdown",
   "metadata": {
    "id": "Pxa71Q7v5Ewc"
   },
   "source": [
    "Berdasarkan elbow method dan silhouette score, optimal number cluster yang disarankan adalah 4"
   ]
  },
  {
   "cell_type": "markdown",
   "metadata": {
    "id": "WNBLP25x5TmZ"
   },
   "source": [
    "**2. Setelah jumlah cluster ditentukan, maka perlu di apply ke data set**"
   ]
  },
  {
   "cell_type": "code",
   "execution_count": 21,
   "metadata": {
    "colab": {
     "base_uri": "https://localhost:8080/"
    },
    "id": "lzaHqZeu5mXt",
    "outputId": "8bee5a3d-8039-47bd-ee14-615f819899b3"
   },
   "outputs": [
    {
     "data": {
      "text/plain": [
       "3    9774\n",
       "2    5870\n",
       "1    4740\n",
       "0    2311\n",
       "Name: clusters, dtype: int64"
      ]
     },
     "execution_count": 21,
     "metadata": {},
     "output_type": "execute_result"
    }
   ],
   "source": [
    "# Create model of k clusters and train it\n",
    "kmeans01 = KMeans(n_clusters=4, init='k-means++', random_state=21)\n",
    "kmeans01.fit(data)\n",
    "\n",
    "# Get labels and clusters\n",
    "arr_labels_01 = kmeans01.predict(data).reshape((-1,1))\n",
    "arr_centroids_01 = kmeans01.cluster_centers_\n",
    "\n",
    "# Label the data with the predictions in the data frame\n",
    "data['clusters'] = arr_labels_01.flatten()\n",
    "\n",
    "data['clusters'].value_counts()"
   ]
  },
  {
   "cell_type": "markdown",
   "metadata": {
    "id": "ymBzqzyS7y-_"
   },
   "source": [
    "**3. Mencari jarak setiap point terhadap centroids tiap cluster**"
   ]
  },
  {
   "cell_type": "code",
   "execution_count": 22,
   "metadata": {
    "id": "BQt5cGrB777W"
   },
   "outputs": [],
   "source": [
    "# Get distance to centroid\n",
    "def get_distance_centroid(array, centroids):\n",
    "    \"\"\"\n",
    "    This function is made to be used with `numpy.apply_along_axis`.Takes in an n-dimensional \n",
    "    vector of features (previously processed) and finds the distance to their respective \n",
    "    cluster centroid.\n",
    "    \n",
    "    * **`array`**: \n",
    "    * **`centroids`**:\n",
    "    \"\"\"\n",
    "    vector = array[:-1]\n",
    "    label = array[-1]\n",
    "    centroid = centroids[int(label)]\n",
    "    dist = euclidean(vector, centroid)\n",
    "    return dist"
   ]
  },
  {
   "cell_type": "code",
   "execution_count": 23,
   "metadata": {
    "colab": {
     "base_uri": "https://localhost:8080/",
     "height": 206
    },
    "id": "4ZmhAnLq8B_Y",
    "outputId": "f8f67ff3-2e8a-410f-f733-a2b6e9317883"
   },
   "outputs": [
    {
     "data": {
      "text/html": [
       "<div>\n",
       "<style scoped>\n",
       "    .dataframe tbody tr th:only-of-type {\n",
       "        vertical-align: middle;\n",
       "    }\n",
       "\n",
       "    .dataframe tbody tr th {\n",
       "        vertical-align: top;\n",
       "    }\n",
       "\n",
       "    .dataframe thead th {\n",
       "        text-align: right;\n",
       "    }\n",
       "</style>\n",
       "<table border=\"1\" class=\"dataframe\">\n",
       "  <thead>\n",
       "    <tr style=\"text-align: right;\">\n",
       "      <th></th>\n",
       "      <th>0</th>\n",
       "      <th>1</th>\n",
       "      <th>2</th>\n",
       "      <th>3</th>\n",
       "      <th>4</th>\n",
       "      <th>clusters</th>\n",
       "      <th>distance_centroid</th>\n",
       "    </tr>\n",
       "  </thead>\n",
       "  <tbody>\n",
       "    <tr>\n",
       "      <th>0</th>\n",
       "      <td>-0.869973</td>\n",
       "      <td>1.375415</td>\n",
       "      <td>0.709281</td>\n",
       "      <td>-1.484001</td>\n",
       "      <td>0.622342</td>\n",
       "      <td>3</td>\n",
       "      <td>1.783660</td>\n",
       "    </tr>\n",
       "    <tr>\n",
       "      <th>1</th>\n",
       "      <td>-0.799515</td>\n",
       "      <td>1.375415</td>\n",
       "      <td>0.709281</td>\n",
       "      <td>-1.484001</td>\n",
       "      <td>0.622342</td>\n",
       "      <td>3</td>\n",
       "      <td>1.737685</td>\n",
       "    </tr>\n",
       "    <tr>\n",
       "      <th>2</th>\n",
       "      <td>-0.713073</td>\n",
       "      <td>1.375415</td>\n",
       "      <td>0.709281</td>\n",
       "      <td>-1.484001</td>\n",
       "      <td>0.622342</td>\n",
       "      <td>3</td>\n",
       "      <td>1.683596</td>\n",
       "    </tr>\n",
       "    <tr>\n",
       "      <th>3</th>\n",
       "      <td>-0.566379</td>\n",
       "      <td>1.375415</td>\n",
       "      <td>0.709281</td>\n",
       "      <td>-1.484001</td>\n",
       "      <td>0.622342</td>\n",
       "      <td>3</td>\n",
       "      <td>1.598327</td>\n",
       "    </tr>\n",
       "    <tr>\n",
       "      <th>4</th>\n",
       "      <td>-0.479876</td>\n",
       "      <td>1.375415</td>\n",
       "      <td>0.709281</td>\n",
       "      <td>-1.484001</td>\n",
       "      <td>0.622342</td>\n",
       "      <td>3</td>\n",
       "      <td>1.552353</td>\n",
       "    </tr>\n",
       "  </tbody>\n",
       "</table>\n",
       "</div>"
      ],
      "text/plain": [
       "          0         1         2         3         4  clusters  \\\n",
       "0 -0.869973  1.375415  0.709281 -1.484001  0.622342         3   \n",
       "1 -0.799515  1.375415  0.709281 -1.484001  0.622342         3   \n",
       "2 -0.713073  1.375415  0.709281 -1.484001  0.622342         3   \n",
       "3 -0.566379  1.375415  0.709281 -1.484001  0.622342         3   \n",
       "4 -0.479876  1.375415  0.709281 -1.484001  0.622342         3   \n",
       "\n",
       "   distance_centroid  \n",
       "0           1.783660  \n",
       "1           1.737685  \n",
       "2           1.683596  \n",
       "3           1.598327  \n",
       "4           1.552353  "
      ]
     },
     "execution_count": 23,
     "metadata": {},
     "output_type": "execute_result"
    }
   ],
   "source": [
    "# Find distance\n",
    "arr_distances_centroid_01 = np.apply_along_axis(func1d = get_distance_centroid, axis=1,\n",
    "                                                arr= data,\n",
    "                                                centroids = arr_centroids_01)\n",
    "# Add data to data frame\n",
    "data['distance_centroid'] = arr_distances_centroid_01\n",
    "\n",
    "data.head()"
   ]
  },
  {
   "cell_type": "markdown",
   "metadata": {
    "id": "37Bcv4HfBAla"
   },
   "source": [
    "**4. Mengetahui distribusi distance centorids menggunakan Modified Z-score**"
   ]
  },
  {
   "cell_type": "markdown",
   "metadata": {},
   "source": [
    "modified z score digunakan untuk menentukan apakah sebuah data termasuk anomaly atau bukan"
   ]
  },
  {
   "cell_type": "code",
   "execution_count": 24,
   "metadata": {
    "id": "xoYMx5VpBVV5"
   },
   "outputs": [],
   "source": [
    "# Get distance to centroid (Standardised)\n",
    "def calculate_modifed_z_score(array, medians, mads):\n",
    "    \"\"\"\n",
    "    This function is made to be used with `numpy.apply_along_axis`. Takes in a 2-dimensional \n",
    "    vector of distances and labels and returns their respective Modified Z-score acording to \n",
    "    their respective distribution.\n",
    "    \n",
    "    * **`array`** (_ndarray_): A vector/array of 2 dimensions where the first element is the \n",
    "                               distance to the cluster's centroidlast element and the second \n",
    "                               element the label of the category/group/cluster.\n",
    "                               The label must be in a numeric form starting from 0 up to the \n",
    "                               _n-1_ category.\n",
    "                               The labels must match with the index of their respective elment \n",
    "                               in `medians`.\n",
    "    * **`medians`** (_array like_): A list or ndarray containig the medians of the respective \n",
    "                                    distance distribution from each category\n",
    "    * **`mads`** (_array like_): A list or ndarray contaiing the median absolute deviation from \n",
    "                                 the median of the respective distance distribution from each \n",
    "                                 category\n",
    "    \"\"\"\n",
    "    distance, label = array\n",
    "    median = medians[int(label)]\n",
    "    mad = mads[int(label)]\n",
    "    z_mod = (distance - median)/mad\n",
    "    return z_mod"
   ]
  },
  {
   "cell_type": "code",
   "execution_count": 25,
   "metadata": {
    "id": "Z4QuFpDABZkc"
   },
   "outputs": [],
   "source": [
    "arr_distances_labels_01 = data[['distance_centroid','clusters']].values"
   ]
  },
  {
   "cell_type": "code",
   "execution_count": 26,
   "metadata": {
    "id": "QwNsJNM1BlPD"
   },
   "outputs": [],
   "source": [
    "median_01_0 = np.median(data.query('clusters == 0')['distance_centroid'].values)\n",
    "median_01_1 = np.median(data.query('clusters == 1')['distance_centroid'].values)\n",
    "median_01_2 = np.median(data.query('clusters == 2')['distance_centroid'].values)\n",
    "median_01_3 = np.median(data.query('clusters == 3')['distance_centroid'].values)\n",
    "list_medians_01 = [median_01_0, median_01_1, median_01_2, median_01_3]\n",
    "\n",
    "mads_01_0 = median_abs_deviation(data.query('clusters == 0')['distance_centroid'].values)\n",
    "mads_01_1 = median_abs_deviation(data.query('clusters == 1')['distance_centroid'].values)\n",
    "mads_01_2 = median_abs_deviation(data.query('clusters == 2')['distance_centroid'].values)\n",
    "mads_01_3 = median_abs_deviation(data.query('clusters == 3')['distance_centroid'].values)\n",
    "list_mads_01 = [mads_01_0, mads_01_1, mads_01_2, mads_01_3]"
   ]
  },
  {
   "cell_type": "code",
   "execution_count": 27,
   "metadata": {},
   "outputs": [],
   "source": [
    "arr_z_mod_01 = np.apply_along_axis(func1d= calculate_modifed_z_score,\n",
    "                                   arr= arr_distances_labels_01,\n",
    "                                   axis = 1,\n",
    "                                   medians = list_medians_01,\n",
    "                                   mads = list_mads_01\n",
    "                                  )"
   ]
  },
  {
   "cell_type": "code",
   "execution_count": 28,
   "metadata": {},
   "outputs": [
    {
     "data": {
      "text/html": [
       "<div>\n",
       "<style scoped>\n",
       "    .dataframe tbody tr th:only-of-type {\n",
       "        vertical-align: middle;\n",
       "    }\n",
       "\n",
       "    .dataframe tbody tr th {\n",
       "        vertical-align: top;\n",
       "    }\n",
       "\n",
       "    .dataframe thead th {\n",
       "        text-align: right;\n",
       "    }\n",
       "</style>\n",
       "<table border=\"1\" class=\"dataframe\">\n",
       "  <thead>\n",
       "    <tr style=\"text-align: right;\">\n",
       "      <th></th>\n",
       "      <th>0</th>\n",
       "      <th>1</th>\n",
       "      <th>2</th>\n",
       "      <th>3</th>\n",
       "      <th>4</th>\n",
       "      <th>clusters</th>\n",
       "      <th>distance_centroid</th>\n",
       "      <th>z_mod</th>\n",
       "    </tr>\n",
       "  </thead>\n",
       "  <tbody>\n",
       "    <tr>\n",
       "      <th>0</th>\n",
       "      <td>-0.869973</td>\n",
       "      <td>1.375415</td>\n",
       "      <td>0.709281</td>\n",
       "      <td>-1.484001</td>\n",
       "      <td>0.622342</td>\n",
       "      <td>3</td>\n",
       "      <td>1.783660</td>\n",
       "      <td>2.708230</td>\n",
       "    </tr>\n",
       "    <tr>\n",
       "      <th>1</th>\n",
       "      <td>-0.799515</td>\n",
       "      <td>1.375415</td>\n",
       "      <td>0.709281</td>\n",
       "      <td>-1.484001</td>\n",
       "      <td>0.622342</td>\n",
       "      <td>3</td>\n",
       "      <td>1.737685</td>\n",
       "      <td>2.519522</td>\n",
       "    </tr>\n",
       "    <tr>\n",
       "      <th>2</th>\n",
       "      <td>-0.713073</td>\n",
       "      <td>1.375415</td>\n",
       "      <td>0.709281</td>\n",
       "      <td>-1.484001</td>\n",
       "      <td>0.622342</td>\n",
       "      <td>3</td>\n",
       "      <td>1.683596</td>\n",
       "      <td>2.297506</td>\n",
       "    </tr>\n",
       "    <tr>\n",
       "      <th>3</th>\n",
       "      <td>-0.566379</td>\n",
       "      <td>1.375415</td>\n",
       "      <td>0.709281</td>\n",
       "      <td>-1.484001</td>\n",
       "      <td>0.622342</td>\n",
       "      <td>3</td>\n",
       "      <td>1.598327</td>\n",
       "      <td>1.947512</td>\n",
       "    </tr>\n",
       "    <tr>\n",
       "      <th>4</th>\n",
       "      <td>-0.479876</td>\n",
       "      <td>1.375415</td>\n",
       "      <td>0.709281</td>\n",
       "      <td>-1.484001</td>\n",
       "      <td>0.622342</td>\n",
       "      <td>3</td>\n",
       "      <td>1.552353</td>\n",
       "      <td>1.758808</td>\n",
       "    </tr>\n",
       "  </tbody>\n",
       "</table>\n",
       "</div>"
      ],
      "text/plain": [
       "          0         1         2         3         4  clusters  \\\n",
       "0 -0.869973  1.375415  0.709281 -1.484001  0.622342         3   \n",
       "1 -0.799515  1.375415  0.709281 -1.484001  0.622342         3   \n",
       "2 -0.713073  1.375415  0.709281 -1.484001  0.622342         3   \n",
       "3 -0.566379  1.375415  0.709281 -1.484001  0.622342         3   \n",
       "4 -0.479876  1.375415  0.709281 -1.484001  0.622342         3   \n",
       "\n",
       "   distance_centroid     z_mod  \n",
       "0           1.783660  2.708230  \n",
       "1           1.737685  2.519522  \n",
       "2           1.683596  2.297506  \n",
       "3           1.598327  1.947512  \n",
       "4           1.552353  1.758808  "
      ]
     },
     "execution_count": 28,
     "metadata": {},
     "output_type": "execute_result"
    }
   ],
   "source": [
    "data['z_mod'] = arr_z_mod_01\n",
    "data.head()"
   ]
  },
  {
   "cell_type": "code",
   "execution_count": 29,
   "metadata": {},
   "outputs": [
    {
     "data": {
      "image/png": "[encoded data removed]",
      "text/plain": [
       "<Figure size 1080x288 with 1 Axes>"
      ]
     },
     "metadata": {
      "needs_background": "light"
     },
     "output_type": "display_data"
    }
   ],
   "source": [
    "fig, ax = plt.subplots(figsize = (15,4))\n",
    "ax.plot(data['z_mod'])\n",
    "plt.tight_layout()\n",
    "\n"
   ]
  },
  {
   "cell_type": "markdown",
   "metadata": {},
   "source": [
    "Berdasarkan plot, kebanyakan data berada pada rentang z-score mod -3.5 hingga 3.5, sehingga data lebih dari itu bisa dianggap sebagai outlier"
   ]
  },
  {
   "cell_type": "markdown",
   "metadata": {},
   "source": [
    "### LOF (Local Outlier Factor) "
   ]
  },
  {
   "cell_type": "code",
   "execution_count": 30,
   "metadata": {},
   "outputs": [],
   "source": [
    "data2 = raw.copy()"
   ]
  },
  {
   "cell_type": "code",
   "execution_count": 31,
   "metadata": {},
   "outputs": [],
   "source": [
    "# reduce to 2 importants features\n",
    "pca = PCA(n_components=2)\n",
    "data2 = pca.fit_transform(data2)\n",
    "\n",
    "# standardize these 2 new features\n",
    "min_max_scaler = preprocessing.StandardScaler()\n",
    "np_scaled = min_max_scaler.fit_transform(data2)\n",
    "data2 = pd.DataFrame(np_scaled)"
   ]
  },
  {
   "cell_type": "code",
   "execution_count": 32,
   "metadata": {},
   "outputs": [
    {
     "data": {
      "text/html": [
       "<div>\n",
       "<style scoped>\n",
       "    .dataframe tbody tr th:only-of-type {\n",
       "        vertical-align: middle;\n",
       "    }\n",
       "\n",
       "    .dataframe tbody tr th {\n",
       "        vertical-align: top;\n",
       "    }\n",
       "\n",
       "    .dataframe thead th {\n",
       "        text-align: right;\n",
       "    }\n",
       "</style>\n",
       "<table border=\"1\" class=\"dataframe\">\n",
       "  <thead>\n",
       "    <tr style=\"text-align: right;\">\n",
       "      <th></th>\n",
       "      <th>0</th>\n",
       "      <th>1</th>\n",
       "    </tr>\n",
       "  </thead>\n",
       "  <tbody>\n",
       "    <tr>\n",
       "      <th>0</th>\n",
       "      <td>-1.143708</td>\n",
       "      <td>-1.212546</td>\n",
       "    </tr>\n",
       "    <tr>\n",
       "      <th>1</th>\n",
       "      <td>-1.141072</td>\n",
       "      <td>-1.207525</td>\n",
       "    </tr>\n",
       "    <tr>\n",
       "      <th>2</th>\n",
       "      <td>-1.137839</td>\n",
       "      <td>-1.201365</td>\n",
       "    </tr>\n",
       "  </tbody>\n",
       "</table>\n",
       "</div>"
      ],
      "text/plain": [
       "          0         1\n",
       "0 -1.143708 -1.212546\n",
       "1 -1.141072 -1.207525\n",
       "2 -1.137839 -1.201365"
      ]
     },
     "execution_count": 32,
     "metadata": {},
     "output_type": "execute_result"
    }
   ],
   "source": [
    "data2.head(3)"
   ]
  },
  {
   "cell_type": "code",
   "execution_count": 33,
   "metadata": {},
   "outputs": [],
   "source": [
    "def get_local_outlier_factor_scores(dataframe, k_neighbours = 4):\n",
    "    \"\"\"\n",
    "    \"\"\"\n",
    "    X = dataframe.values\n",
    "    # 1. Create model\n",
    "    lof_model = LocalOutlierFactor(n_neighbors= k_neighbours)\n",
    "    # 2. Train the model\n",
    "    lof_model.fit(X)\n",
    "    # 3. Get the Local Outlier Factor (score)\n",
    "    negative_lof = lof_model.negative_outlier_factor_\n",
    "    dataframe['local_outlier_factor'] = -1 * negative_lof\n",
    "    return dataframe"
   ]
  },
  {
   "cell_type": "code",
   "execution_count": 34,
   "metadata": {},
   "outputs": [
    {
     "data": {
      "text/html": [
       "<div>\n",
       "<style scoped>\n",
       "    .dataframe tbody tr th:only-of-type {\n",
       "        vertical-align: middle;\n",
       "    }\n",
       "\n",
       "    .dataframe tbody tr th {\n",
       "        vertical-align: top;\n",
       "    }\n",
       "\n",
       "    .dataframe thead th {\n",
       "        text-align: right;\n",
       "    }\n",
       "</style>\n",
       "<table border=\"1\" class=\"dataframe\">\n",
       "  <thead>\n",
       "    <tr style=\"text-align: right;\">\n",
       "      <th></th>\n",
       "      <th>0</th>\n",
       "      <th>1</th>\n",
       "      <th>local_outlier_factor</th>\n",
       "    </tr>\n",
       "  </thead>\n",
       "  <tbody>\n",
       "    <tr>\n",
       "      <th>0</th>\n",
       "      <td>-1.143708</td>\n",
       "      <td>-1.212546</td>\n",
       "      <td>1.151471</td>\n",
       "    </tr>\n",
       "    <tr>\n",
       "      <th>1</th>\n",
       "      <td>-1.141072</td>\n",
       "      <td>-1.207525</td>\n",
       "      <td>1.006490</td>\n",
       "    </tr>\n",
       "    <tr>\n",
       "      <th>2</th>\n",
       "      <td>-1.137839</td>\n",
       "      <td>-1.201365</td>\n",
       "      <td>1.024423</td>\n",
       "    </tr>\n",
       "    <tr>\n",
       "      <th>3</th>\n",
       "      <td>-1.132351</td>\n",
       "      <td>-1.190911</td>\n",
       "      <td>1.593915</td>\n",
       "    </tr>\n",
       "    <tr>\n",
       "      <th>4</th>\n",
       "      <td>-1.129115</td>\n",
       "      <td>-1.184746</td>\n",
       "      <td>0.991479</td>\n",
       "    </tr>\n",
       "    <tr>\n",
       "      <th>...</th>\n",
       "      <td>...</td>\n",
       "      <td>...</td>\n",
       "      <td>...</td>\n",
       "    </tr>\n",
       "    <tr>\n",
       "      <th>22690</th>\n",
       "      <td>-0.548535</td>\n",
       "      <td>-0.608099</td>\n",
       "      <td>1.027717</td>\n",
       "    </tr>\n",
       "    <tr>\n",
       "      <th>22691</th>\n",
       "      <td>-0.549573</td>\n",
       "      <td>-0.610075</td>\n",
       "      <td>1.251135</td>\n",
       "    </tr>\n",
       "    <tr>\n",
       "      <th>22692</th>\n",
       "      <td>-0.551392</td>\n",
       "      <td>-0.613542</td>\n",
       "      <td>1.186102</td>\n",
       "    </tr>\n",
       "    <tr>\n",
       "      <th>22693</th>\n",
       "      <td>-0.548885</td>\n",
       "      <td>-0.608765</td>\n",
       "      <td>0.948725</td>\n",
       "    </tr>\n",
       "    <tr>\n",
       "      <th>22694</th>\n",
       "      <td>-0.552023</td>\n",
       "      <td>-0.614742</td>\n",
       "      <td>1.143046</td>\n",
       "    </tr>\n",
       "  </tbody>\n",
       "</table>\n",
       "<p>22695 rows × 3 columns</p>\n",
       "</div>"
      ],
      "text/plain": [
       "              0         1  local_outlier_factor\n",
       "0     -1.143708 -1.212546              1.151471\n",
       "1     -1.141072 -1.207525              1.006490\n",
       "2     -1.137839 -1.201365              1.024423\n",
       "3     -1.132351 -1.190911              1.593915\n",
       "4     -1.129115 -1.184746              0.991479\n",
       "...         ...       ...                   ...\n",
       "22690 -0.548535 -0.608099              1.027717\n",
       "22691 -0.549573 -0.610075              1.251135\n",
       "22692 -0.551392 -0.613542              1.186102\n",
       "22693 -0.548885 -0.608765              0.948725\n",
       "22694 -0.552023 -0.614742              1.143046\n",
       "\n",
       "[22695 rows x 3 columns]"
      ]
     },
     "execution_count": 34,
     "metadata": {},
     "output_type": "execute_result"
    }
   ],
   "source": [
    "get_local_outlier_factor_scores(data2, k_neighbours = 4)"
   ]
  },
  {
   "cell_type": "code",
   "execution_count": 35,
   "metadata": {},
   "outputs": [
    {
     "data": {
      "text/plain": [
       "[]"
      ]
     },
     "execution_count": 35,
     "metadata": {},
     "output_type": "execute_result"
    },
    {
     "data": {
      "image/png": "[encoded data removed]",
      "text/plain": [
       "<Figure size 1080x288 with 1 Axes>"
      ]
     },
     "metadata": {
      "needs_background": "light"
     },
     "output_type": "display_data"
    }
   ],
   "source": [
    "#plot local_outlier_factor to determine treshold\n",
    "fig, ax = plt.subplots(figsize = (15,4))\n",
    "ax.plot(data2['local_outlier_factor'])\n",
    "\n",
    "plt.plot()\n"
   ]
  },
  {
   "cell_type": "markdown",
   "metadata": {},
   "source": [
    "Berdasarkan plot, kebanyakan data berada pada rentang LOF 0-6, sehingga data lebih dari itu bisa dianggap sebagai outlier atau anomaly"
   ]
  },
  {
   "cell_type": "markdown",
   "metadata": {},
   "source": [
    "## Determine Anomaly "
   ]
  },
  {
   "cell_type": "markdown",
   "metadata": {},
   "source": [
    "**Syarat Kategori Anomali**\n",
    "<br> Untuk mengidentifikasi sebuah data termasuk anomali atau tidak, diperlukan treshold untuk menilai tiap matriks. \n",
    " <br>Dalam hal ini, kita menggunakan: \n",
    "   <br> 1. K-Means: z-mod >3.5 merupakan outlier (nilainya jauh dari median)\n",
    "   <br>2. Local Outlier Factor (LOF): LOF score > 6\n",
    "\n",
    "<br> **Menentukan kategori anomali/outlier?**\n",
    "<br>Outlier dapat langsung diidentifikasi melalui LOF score, namun tidak untuk k-means. Dari K-means, nilai z-mod didapat dari tiap centroid cluster, sehingga prespektif anomali seharusnya berdasarkan setiap cluster. "
   ]
  },
  {
   "cell_type": "code",
   "execution_count": 36,
   "metadata": {},
   "outputs": [],
   "source": [
    "def detect_anomaly(value, threshold, detector):\n",
    "    if detector == 'z_mod':\n",
    "        if value > threshold:\n",
    "            return 'Outlier'\n",
    "        else: \n",
    "            return 'Inlier'\n",
    "    elif detector == 'lof':\n",
    "        if value > threshold:\n",
    "            return 'Outlier'\n",
    "        else: \n",
    "            return 'Inlier'"
   ]
  },
  {
   "cell_type": "code",
   "execution_count": 37,
   "metadata": {},
   "outputs": [],
   "source": [
    "# Detect outliers -> K-Means\n",
    "data['outliers_z_mod'] = data['z_mod'].apply(detect_anomaly, args = (3.5, 'z_mod',))\n",
    "\n",
    "# Detect outliers -> LOF\n",
    "data2['outliers_lof'] = data2['local_outlier_factor'].apply(detect_anomaly, args = (6, 'lof',))"
   ]
  },
  {
   "cell_type": "markdown",
   "metadata": {},
   "source": [
    "## Visualization"
   ]
  },
  {
   "cell_type": "markdown",
   "metadata": {},
   "source": [
    "### Visualization k-means clustering"
   ]
  },
  {
   "cell_type": "code",
   "execution_count": 38,
   "metadata": {
    "colab": {
     "base_uri": "https://localhost:8080/"
    },
    "id": "tK3radVMb0S9",
    "outputId": "4502d0df-5df5-47e1-8e38-3f88edddb3f9",
    "tags": []
   },
   "outputs": [
    {
     "data": {
      "text/plain": [
       "3    9774\n",
       "2    5870\n",
       "1    4740\n",
       "0    2311\n",
       "Name: clusters, dtype: int64"
      ]
     },
     "execution_count": 38,
     "metadata": {},
     "output_type": "execute_result"
    }
   ],
   "source": [
    "data['principal_feature1'] = data[0]\n",
    "data['principal_feature2'] = data[1]\n",
    "data['clusters'].value_counts()"
   ]
  },
  {
   "cell_type": "code",
   "execution_count": 39,
   "metadata": {
    "colab": {
     "base_uri": "https://localhost:8080/",
     "height": 265
    },
    "id": "uvY8gEdQcCKB",
    "outputId": "8ad2666b-6e49-4952-8bdd-4e4780bae393"
   },
   "outputs": [
    {
     "data": {
      "image/png": "[encoded data removed]",
      "text/plain": [
       "<Figure size 1080x288 with 1 Axes>"
      ]
     },
     "metadata": {
      "needs_background": "light"
     },
     "output_type": "display_data"
    }
   ],
   "source": [
    "#plot the different clusters with the 2 main features\n",
    "fig, ax = plt.subplots(figsize = (15,4))\n",
    "colors = {0:'pink', 1:'purple', 2:'green', 3:'blue'}\n",
    "ax.scatter(data['principal_feature1'], data['principal_feature2'], c=data['clusters'].apply(lambda x: colors[x]))\n",
    "plt.show()"
   ]
  },
  {
   "cell_type": "code",
   "execution_count": 40,
   "metadata": {},
   "outputs": [
    {
     "data": {
      "text/html": [
       "<div>\n",
       "<style scoped>\n",
       "    .dataframe tbody tr th:only-of-type {\n",
       "        vertical-align: middle;\n",
       "    }\n",
       "\n",
       "    .dataframe tbody tr th {\n",
       "        vertical-align: top;\n",
       "    }\n",
       "\n",
       "    .dataframe thead th {\n",
       "        text-align: right;\n",
       "    }\n",
       "</style>\n",
       "<table border=\"1\" class=\"dataframe\">\n",
       "  <thead>\n",
       "    <tr style=\"text-align: right;\">\n",
       "      <th></th>\n",
       "      <th>timestamp</th>\n",
       "      <th>value</th>\n",
       "      <th>year</th>\n",
       "      <th>month</th>\n",
       "      <th>day</th>\n",
       "      <th>hour</th>\n",
       "      <th>minute</th>\n",
       "      <th>dayofweek</th>\n",
       "      <th>daylight</th>\n",
       "      <th>weekday</th>\n",
       "      <th>...</th>\n",
       "      <th>1</th>\n",
       "      <th>2</th>\n",
       "      <th>3</th>\n",
       "      <th>4</th>\n",
       "      <th>clusters</th>\n",
       "      <th>distance_centroid</th>\n",
       "      <th>z_mod</th>\n",
       "      <th>outliers_z_mod</th>\n",
       "      <th>principal_feature1</th>\n",
       "      <th>principal_feature2</th>\n",
       "    </tr>\n",
       "  </thead>\n",
       "  <tbody>\n",
       "    <tr>\n",
       "      <th>0</th>\n",
       "      <td>2013-12-02 21:15:00</td>\n",
       "      <td>23.315179</td>\n",
       "      <td>2013</td>\n",
       "      <td>12</td>\n",
       "      <td>2</td>\n",
       "      <td>21</td>\n",
       "      <td>15</td>\n",
       "      <td>0</td>\n",
       "      <td>1</td>\n",
       "      <td>1</td>\n",
       "      <td>...</td>\n",
       "      <td>1.375415</td>\n",
       "      <td>0.709281</td>\n",
       "      <td>-1.484001</td>\n",
       "      <td>0.622342</td>\n",
       "      <td>3</td>\n",
       "      <td>1.783660</td>\n",
       "      <td>2.708230</td>\n",
       "      <td>Inlier</td>\n",
       "      <td>-0.869973</td>\n",
       "      <td>1.375415</td>\n",
       "    </tr>\n",
       "    <tr>\n",
       "      <th>1</th>\n",
       "      <td>2013-12-02 21:20:00</td>\n",
       "      <td>23.853268</td>\n",
       "      <td>2013</td>\n",
       "      <td>12</td>\n",
       "      <td>2</td>\n",
       "      <td>21</td>\n",
       "      <td>20</td>\n",
       "      <td>0</td>\n",
       "      <td>1</td>\n",
       "      <td>1</td>\n",
       "      <td>...</td>\n",
       "      <td>1.375415</td>\n",
       "      <td>0.709281</td>\n",
       "      <td>-1.484001</td>\n",
       "      <td>0.622342</td>\n",
       "      <td>3</td>\n",
       "      <td>1.737685</td>\n",
       "      <td>2.519522</td>\n",
       "      <td>Inlier</td>\n",
       "      <td>-0.799515</td>\n",
       "      <td>1.375415</td>\n",
       "    </tr>\n",
       "    <tr>\n",
       "      <th>2</th>\n",
       "      <td>2013-12-02 21:25:00</td>\n",
       "      <td>24.513423</td>\n",
       "      <td>2013</td>\n",
       "      <td>12</td>\n",
       "      <td>2</td>\n",
       "      <td>21</td>\n",
       "      <td>25</td>\n",
       "      <td>0</td>\n",
       "      <td>1</td>\n",
       "      <td>1</td>\n",
       "      <td>...</td>\n",
       "      <td>1.375415</td>\n",
       "      <td>0.709281</td>\n",
       "      <td>-1.484001</td>\n",
       "      <td>0.622342</td>\n",
       "      <td>3</td>\n",
       "      <td>1.683596</td>\n",
       "      <td>2.297506</td>\n",
       "      <td>Inlier</td>\n",
       "      <td>-0.713073</td>\n",
       "      <td>1.375415</td>\n",
       "    </tr>\n",
       "    <tr>\n",
       "      <th>3</th>\n",
       "      <td>2013-12-02 21:30:00</td>\n",
       "      <td>25.633726</td>\n",
       "      <td>2013</td>\n",
       "      <td>12</td>\n",
       "      <td>2</td>\n",
       "      <td>21</td>\n",
       "      <td>30</td>\n",
       "      <td>0</td>\n",
       "      <td>1</td>\n",
       "      <td>1</td>\n",
       "      <td>...</td>\n",
       "      <td>1.375415</td>\n",
       "      <td>0.709281</td>\n",
       "      <td>-1.484001</td>\n",
       "      <td>0.622342</td>\n",
       "      <td>3</td>\n",
       "      <td>1.598327</td>\n",
       "      <td>1.947512</td>\n",
       "      <td>Inlier</td>\n",
       "      <td>-0.566379</td>\n",
       "      <td>1.375415</td>\n",
       "    </tr>\n",
       "    <tr>\n",
       "      <th>4</th>\n",
       "      <td>2013-12-02 21:35:00</td>\n",
       "      <td>26.294353</td>\n",
       "      <td>2013</td>\n",
       "      <td>12</td>\n",
       "      <td>2</td>\n",
       "      <td>21</td>\n",
       "      <td>35</td>\n",
       "      <td>0</td>\n",
       "      <td>1</td>\n",
       "      <td>1</td>\n",
       "      <td>...</td>\n",
       "      <td>1.375415</td>\n",
       "      <td>0.709281</td>\n",
       "      <td>-1.484001</td>\n",
       "      <td>0.622342</td>\n",
       "      <td>3</td>\n",
       "      <td>1.552353</td>\n",
       "      <td>1.758808</td>\n",
       "      <td>Inlier</td>\n",
       "      <td>-0.479876</td>\n",
       "      <td>1.375415</td>\n",
       "    </tr>\n",
       "    <tr>\n",
       "      <th>...</th>\n",
       "      <td>...</td>\n",
       "      <td>...</td>\n",
       "      <td>...</td>\n",
       "      <td>...</td>\n",
       "      <td>...</td>\n",
       "      <td>...</td>\n",
       "      <td>...</td>\n",
       "      <td>...</td>\n",
       "      <td>...</td>\n",
       "      <td>...</td>\n",
       "      <td>...</td>\n",
       "      <td>...</td>\n",
       "      <td>...</td>\n",
       "      <td>...</td>\n",
       "      <td>...</td>\n",
       "      <td>...</td>\n",
       "      <td>...</td>\n",
       "      <td>...</td>\n",
       "      <td>...</td>\n",
       "      <td>...</td>\n",
       "      <td>...</td>\n",
       "    </tr>\n",
       "    <tr>\n",
       "      <th>22690</th>\n",
       "      <td>2014-02-19 15:05:00</td>\n",
       "      <td>36.769675</td>\n",
       "      <td>2014</td>\n",
       "      <td>2</td>\n",
       "      <td>19</td>\n",
       "      <td>15</td>\n",
       "      <td>5</td>\n",
       "      <td>2</td>\n",
       "      <td>1</td>\n",
       "      <td>1</td>\n",
       "      <td>...</td>\n",
       "      <td>0.508956</td>\n",
       "      <td>0.709281</td>\n",
       "      <td>-0.481638</td>\n",
       "      <td>0.622342</td>\n",
       "      <td>3</td>\n",
       "      <td>0.594138</td>\n",
       "      <td>-2.174278</td>\n",
       "      <td>Inlier</td>\n",
       "      <td>0.891777</td>\n",
       "      <td>0.508956</td>\n",
       "    </tr>\n",
       "    <tr>\n",
       "      <th>22691</th>\n",
       "      <td>2014-02-19 15:10:00</td>\n",
       "      <td>36.557871</td>\n",
       "      <td>2014</td>\n",
       "      <td>2</td>\n",
       "      <td>19</td>\n",
       "      <td>15</td>\n",
       "      <td>10</td>\n",
       "      <td>2</td>\n",
       "      <td>1</td>\n",
       "      <td>1</td>\n",
       "      <td>...</td>\n",
       "      <td>0.508956</td>\n",
       "      <td>0.709281</td>\n",
       "      <td>-0.481638</td>\n",
       "      <td>0.622342</td>\n",
       "      <td>3</td>\n",
       "      <td>0.567210</td>\n",
       "      <td>-2.284805</td>\n",
       "      <td>Inlier</td>\n",
       "      <td>0.864044</td>\n",
       "      <td>0.508956</td>\n",
       "    </tr>\n",
       "    <tr>\n",
       "      <th>22692</th>\n",
       "      <td>2014-02-19 15:15:00</td>\n",
       "      <td>36.186371</td>\n",
       "      <td>2014</td>\n",
       "      <td>2</td>\n",
       "      <td>19</td>\n",
       "      <td>15</td>\n",
       "      <td>15</td>\n",
       "      <td>2</td>\n",
       "      <td>1</td>\n",
       "      <td>1</td>\n",
       "      <td>...</td>\n",
       "      <td>0.508956</td>\n",
       "      <td>0.709281</td>\n",
       "      <td>-0.481638</td>\n",
       "      <td>0.622342</td>\n",
       "      <td>3</td>\n",
       "      <td>0.520184</td>\n",
       "      <td>-2.477828</td>\n",
       "      <td>Inlier</td>\n",
       "      <td>0.815399</td>\n",
       "      <td>0.508956</td>\n",
       "    </tr>\n",
       "    <tr>\n",
       "      <th>22693</th>\n",
       "      <td>2014-02-19 15:20:00</td>\n",
       "      <td>36.698251</td>\n",
       "      <td>2014</td>\n",
       "      <td>2</td>\n",
       "      <td>19</td>\n",
       "      <td>15</td>\n",
       "      <td>20</td>\n",
       "      <td>2</td>\n",
       "      <td>1</td>\n",
       "      <td>1</td>\n",
       "      <td>...</td>\n",
       "      <td>0.508956</td>\n",
       "      <td>0.709281</td>\n",
       "      <td>-0.481638</td>\n",
       "      <td>0.622342</td>\n",
       "      <td>3</td>\n",
       "      <td>0.585049</td>\n",
       "      <td>-2.211584</td>\n",
       "      <td>Inlier</td>\n",
       "      <td>0.882425</td>\n",
       "      <td>0.508956</td>\n",
       "    </tr>\n",
       "    <tr>\n",
       "      <th>22694</th>\n",
       "      <td>2014-02-19 15:25:00</td>\n",
       "      <td>36.057700</td>\n",
       "      <td>2014</td>\n",
       "      <td>2</td>\n",
       "      <td>19</td>\n",
       "      <td>15</td>\n",
       "      <td>25</td>\n",
       "      <td>2</td>\n",
       "      <td>1</td>\n",
       "      <td>1</td>\n",
       "      <td>...</td>\n",
       "      <td>0.508956</td>\n",
       "      <td>0.709281</td>\n",
       "      <td>-0.481638</td>\n",
       "      <td>0.622342</td>\n",
       "      <td>3</td>\n",
       "      <td>0.503968</td>\n",
       "      <td>-2.544389</td>\n",
       "      <td>Inlier</td>\n",
       "      <td>0.798551</td>\n",
       "      <td>0.508956</td>\n",
       "    </tr>\n",
       "  </tbody>\n",
       "</table>\n",
       "<p>22695 rows × 23 columns</p>\n",
       "</div>"
      ],
      "text/plain": [
       "                timestamp      value  year  month  day  hour  minute  \\\n",
       "0     2013-12-02 21:15:00  23.315179  2013     12    2    21      15   \n",
       "1     2013-12-02 21:20:00  23.853268  2013     12    2    21      20   \n",
       "2     2013-12-02 21:25:00  24.513423  2013     12    2    21      25   \n",
       "3     2013-12-02 21:30:00  25.633726  2013     12    2    21      30   \n",
       "4     2013-12-02 21:35:00  26.294353  2013     12    2    21      35   \n",
       "...                   ...        ...   ...    ...  ...   ...     ...   \n",
       "22690 2014-02-19 15:05:00  36.769675  2014      2   19    15       5   \n",
       "22691 2014-02-19 15:10:00  36.557871  2014      2   19    15      10   \n",
       "22692 2014-02-19 15:15:00  36.186371  2014      2   19    15      15   \n",
       "22693 2014-02-19 15:20:00  36.698251  2014      2   19    15      20   \n",
       "22694 2014-02-19 15:25:00  36.057700  2014      2   19    15      25   \n",
       "\n",
       "       dayofweek  daylight  weekday  ...         1         2         3  \\\n",
       "0              0         1        1  ...  1.375415  0.709281 -1.484001   \n",
       "1              0         1        1  ...  1.375415  0.709281 -1.484001   \n",
       "2              0         1        1  ...  1.375415  0.709281 -1.484001   \n",
       "3              0         1        1  ...  1.375415  0.709281 -1.484001   \n",
       "4              0         1        1  ...  1.375415  0.709281 -1.484001   \n",
       "...          ...       ...      ...  ...       ...       ...       ...   \n",
       "22690          2         1        1  ...  0.508956  0.709281 -0.481638   \n",
       "22691          2         1        1  ...  0.508956  0.709281 -0.481638   \n",
       "22692          2         1        1  ...  0.508956  0.709281 -0.481638   \n",
       "22693          2         1        1  ...  0.508956  0.709281 -0.481638   \n",
       "22694          2         1        1  ...  0.508956  0.709281 -0.481638   \n",
       "\n",
       "              4  clusters  distance_centroid     z_mod  outliers_z_mod  \\\n",
       "0      0.622342         3           1.783660  2.708230          Inlier   \n",
       "1      0.622342         3           1.737685  2.519522          Inlier   \n",
       "2      0.622342         3           1.683596  2.297506          Inlier   \n",
       "3      0.622342         3           1.598327  1.947512          Inlier   \n",
       "4      0.622342         3           1.552353  1.758808          Inlier   \n",
       "...         ...       ...                ...       ...             ...   \n",
       "22690  0.622342         3           0.594138 -2.174278          Inlier   \n",
       "22691  0.622342         3           0.567210 -2.284805          Inlier   \n",
       "22692  0.622342         3           0.520184 -2.477828          Inlier   \n",
       "22693  0.622342         3           0.585049 -2.211584          Inlier   \n",
       "22694  0.622342         3           0.503968 -2.544389          Inlier   \n",
       "\n",
       "       principal_feature1  principal_feature2  \n",
       "0               -0.869973            1.375415  \n",
       "1               -0.799515            1.375415  \n",
       "2               -0.713073            1.375415  \n",
       "3               -0.566379            1.375415  \n",
       "4               -0.479876            1.375415  \n",
       "...                   ...                 ...  \n",
       "22690            0.891777            0.508956  \n",
       "22691            0.864044            0.508956  \n",
       "22692            0.815399            0.508956  \n",
       "22693            0.882425            0.508956  \n",
       "22694            0.798551            0.508956  \n",
       "\n",
       "[22695 rows x 23 columns]"
      ]
     },
     "metadata": {},
     "output_type": "display_data"
    }
   ],
   "source": [
    "kmeansvis= pd.concat([df, data], axis = 1, join = 'inner')\n",
    "display(kmeansvis)"
   ]
  },
  {
   "cell_type": "code",
   "execution_count": 41,
   "metadata": {},
   "outputs": [
    {
     "data": {
      "text/html": [
       "<div>\n",
       "<style scoped>\n",
       "    .dataframe tbody tr th:only-of-type {\n",
       "        vertical-align: middle;\n",
       "    }\n",
       "\n",
       "    .dataframe tbody tr th {\n",
       "        vertical-align: top;\n",
       "    }\n",
       "\n",
       "    .dataframe thead th {\n",
       "        text-align: right;\n",
       "    }\n",
       "</style>\n",
       "<table border=\"1\" class=\"dataframe\">\n",
       "  <thead>\n",
       "    <tr style=\"text-align: right;\">\n",
       "      <th></th>\n",
       "      <th>timestamp</th>\n",
       "      <th>value</th>\n",
       "      <th>year</th>\n",
       "      <th>month</th>\n",
       "      <th>day</th>\n",
       "      <th>hour</th>\n",
       "      <th>minute</th>\n",
       "      <th>dayofweek</th>\n",
       "      <th>daylight</th>\n",
       "      <th>weekday</th>\n",
       "      <th>...</th>\n",
       "      <th>1</th>\n",
       "      <th>2</th>\n",
       "      <th>3</th>\n",
       "      <th>4</th>\n",
       "      <th>clusters</th>\n",
       "      <th>distance_centroid</th>\n",
       "      <th>z_mod</th>\n",
       "      <th>outliers_z_mod</th>\n",
       "      <th>principal_feature1</th>\n",
       "      <th>principal_feature2</th>\n",
       "    </tr>\n",
       "  </thead>\n",
       "  <tbody>\n",
       "    <tr>\n",
       "      <th>5545</th>\n",
       "      <td>2013-12-22 03:20:00</td>\n",
       "      <td>30.195824</td>\n",
       "      <td>2013</td>\n",
       "      <td>12</td>\n",
       "      <td>22</td>\n",
       "      <td>3</td>\n",
       "      <td>20</td>\n",
       "      <td>6</td>\n",
       "      <td>0</td>\n",
       "      <td>0</td>\n",
       "      <td>...</td>\n",
       "      <td>-1.223961</td>\n",
       "      <td>-1.409878</td>\n",
       "      <td>1.523088</td>\n",
       "      <td>-1.606833</td>\n",
       "      <td>2</td>\n",
       "      <td>1.919644</td>\n",
       "      <td>1.274949</td>\n",
       "      <td>Inlier</td>\n",
       "      <td>0.030988</td>\n",
       "      <td>-1.223961</td>\n",
       "    </tr>\n",
       "    <tr>\n",
       "      <th>13482</th>\n",
       "      <td>2014-01-18 15:45:00</td>\n",
       "      <td>28.954007</td>\n",
       "      <td>2014</td>\n",
       "      <td>1</td>\n",
       "      <td>18</td>\n",
       "      <td>15</td>\n",
       "      <td>45</td>\n",
       "      <td>5</td>\n",
       "      <td>1</td>\n",
       "      <td>0</td>\n",
       "      <td>...</td>\n",
       "      <td>0.508956</td>\n",
       "      <td>0.709281</td>\n",
       "      <td>1.021907</td>\n",
       "      <td>-1.606833</td>\n",
       "      <td>2</td>\n",
       "      <td>0.971411</td>\n",
       "      <td>-1.009500</td>\n",
       "      <td>Inlier</td>\n",
       "      <td>-0.131617</td>\n",
       "      <td>0.508956</td>\n",
       "    </tr>\n",
       "    <tr>\n",
       "      <th>1684</th>\n",
       "      <td>2013-12-08 17:35:00</td>\n",
       "      <td>23.374565</td>\n",
       "      <td>2013</td>\n",
       "      <td>12</td>\n",
       "      <td>8</td>\n",
       "      <td>17</td>\n",
       "      <td>35</td>\n",
       "      <td>6</td>\n",
       "      <td>1</td>\n",
       "      <td>0</td>\n",
       "      <td>...</td>\n",
       "      <td>0.797776</td>\n",
       "      <td>0.709281</td>\n",
       "      <td>1.523088</td>\n",
       "      <td>-1.606833</td>\n",
       "      <td>2</td>\n",
       "      <td>1.552881</td>\n",
       "      <td>0.391357</td>\n",
       "      <td>Inlier</td>\n",
       "      <td>-0.862197</td>\n",
       "      <td>0.797776</td>\n",
       "    </tr>\n",
       "  </tbody>\n",
       "</table>\n",
       "<p>3 rows × 23 columns</p>\n",
       "</div>"
      ],
      "text/plain": [
       "                timestamp      value  year  month  day  hour  minute  \\\n",
       "5545  2013-12-22 03:20:00  30.195824  2013     12   22     3      20   \n",
       "13482 2014-01-18 15:45:00  28.954007  2014      1   18    15      45   \n",
       "1684  2013-12-08 17:35:00  23.374565  2013     12    8    17      35   \n",
       "\n",
       "       dayofweek  daylight  weekday  ...         1         2         3  \\\n",
       "5545           6         0        0  ... -1.223961 -1.409878  1.523088   \n",
       "13482          5         1        0  ...  0.508956  0.709281  1.021907   \n",
       "1684           6         1        0  ...  0.797776  0.709281  1.523088   \n",
       "\n",
       "              4  clusters  distance_centroid     z_mod  outliers_z_mod  \\\n",
       "5545  -1.606833         2           1.919644  1.274949          Inlier   \n",
       "13482 -1.606833         2           0.971411 -1.009500          Inlier   \n",
       "1684  -1.606833         2           1.552881  0.391357          Inlier   \n",
       "\n",
       "       principal_feature1  principal_feature2  \n",
       "5545             0.030988           -1.223961  \n",
       "13482           -0.131617            0.508956  \n",
       "1684            -0.862197            0.797776  \n",
       "\n",
       "[3 rows x 23 columns]"
      ]
     },
     "execution_count": 41,
     "metadata": {},
     "output_type": "execute_result"
    }
   ],
   "source": [
    "kmeansvis.sample(3)"
   ]
  },
  {
   "cell_type": "code",
   "execution_count": 42,
   "metadata": {},
   "outputs": [
    {
     "data": {
      "image/png": "[encoded data removed]",
      "text/plain": [
       "<Figure size 1080x288 with 1 Axes>"
      ]
     },
     "metadata": {
      "needs_background": "light"
     },
     "output_type": "display_data"
    }
   ],
   "source": [
    "# visualisation of anomaly with k-means cluster view\n",
    "fig, ax = plt.subplots(figsize = (15,4))\n",
    "colors = {'Inlier':'blue', 'Outlier':'red'}\n",
    "ax.scatter(kmeansvis['principal_feature1'], kmeansvis['principal_feature2'], c=kmeansvis['outliers_z_mod'].apply(lambda x: colors[x]))\n",
    "plt.show()"
   ]
  },
  {
   "cell_type": "code",
   "execution_count": 43,
   "metadata": {},
   "outputs": [
    {
     "data": {
      "image/png": "[encoded data removed]",
      "text/plain": [
       "<Figure size 1080x288 with 1 Axes>"
      ]
     },
     "metadata": {
      "needs_background": "light"
     },
     "output_type": "display_data"
    }
   ],
   "source": [
    "# visualisation of anomaly throughout time (viz k-means clustering)\n",
    "fig, ax = plt.subplots(figsize = (15,4))\n",
    "\n",
    "a = kmeansvis.loc[kmeansvis['outliers_z_mod'] == 'Outlier', ['time_epoch', 'value']] #anomaly\n",
    "\n",
    "ax.plot(kmeansvis['time_epoch'], kmeansvis['value'], color='blue')\n",
    "ax.scatter(a['time_epoch'],a['value'], color='red')\n",
    "plt.show()"
   ]
  },
  {
   "cell_type": "markdown",
   "metadata": {},
   "source": [
    "### Visualization LOF"
   ]
  },
  {
   "cell_type": "code",
   "execution_count": 44,
   "metadata": {},
   "outputs": [],
   "source": [
    "data2['principal_feature1'] = data[0]\n",
    "data2['principal_feature2'] = data[1]"
   ]
  },
  {
   "cell_type": "code",
   "execution_count": 45,
   "metadata": {},
   "outputs": [
    {
     "data": {
      "text/html": [
       "<div>\n",
       "<style scoped>\n",
       "    .dataframe tbody tr th:only-of-type {\n",
       "        vertical-align: middle;\n",
       "    }\n",
       "\n",
       "    .dataframe tbody tr th {\n",
       "        vertical-align: top;\n",
       "    }\n",
       "\n",
       "    .dataframe thead th {\n",
       "        text-align: right;\n",
       "    }\n",
       "</style>\n",
       "<table border=\"1\" class=\"dataframe\">\n",
       "  <thead>\n",
       "    <tr style=\"text-align: right;\">\n",
       "      <th></th>\n",
       "      <th>0</th>\n",
       "      <th>1</th>\n",
       "      <th>local_outlier_factor</th>\n",
       "      <th>outliers_lof</th>\n",
       "      <th>principal_feature1</th>\n",
       "      <th>principal_feature2</th>\n",
       "    </tr>\n",
       "  </thead>\n",
       "  <tbody>\n",
       "    <tr>\n",
       "      <th>0</th>\n",
       "      <td>-1.143708</td>\n",
       "      <td>-1.212546</td>\n",
       "      <td>1.151471</td>\n",
       "      <td>Inlier</td>\n",
       "      <td>-0.869973</td>\n",
       "      <td>1.375415</td>\n",
       "    </tr>\n",
       "    <tr>\n",
       "      <th>1</th>\n",
       "      <td>-1.141072</td>\n",
       "      <td>-1.207525</td>\n",
       "      <td>1.006490</td>\n",
       "      <td>Inlier</td>\n",
       "      <td>-0.799515</td>\n",
       "      <td>1.375415</td>\n",
       "    </tr>\n",
       "    <tr>\n",
       "      <th>2</th>\n",
       "      <td>-1.137839</td>\n",
       "      <td>-1.201365</td>\n",
       "      <td>1.024423</td>\n",
       "      <td>Inlier</td>\n",
       "      <td>-0.713073</td>\n",
       "      <td>1.375415</td>\n",
       "    </tr>\n",
       "    <tr>\n",
       "      <th>3</th>\n",
       "      <td>-1.132351</td>\n",
       "      <td>-1.190911</td>\n",
       "      <td>1.593915</td>\n",
       "      <td>Inlier</td>\n",
       "      <td>-0.566379</td>\n",
       "      <td>1.375415</td>\n",
       "    </tr>\n",
       "    <tr>\n",
       "      <th>4</th>\n",
       "      <td>-1.129115</td>\n",
       "      <td>-1.184746</td>\n",
       "      <td>0.991479</td>\n",
       "      <td>Inlier</td>\n",
       "      <td>-0.479876</td>\n",
       "      <td>1.375415</td>\n",
       "    </tr>\n",
       "    <tr>\n",
       "      <th>...</th>\n",
       "      <td>...</td>\n",
       "      <td>...</td>\n",
       "      <td>...</td>\n",
       "      <td>...</td>\n",
       "      <td>...</td>\n",
       "      <td>...</td>\n",
       "    </tr>\n",
       "    <tr>\n",
       "      <th>22690</th>\n",
       "      <td>-0.548535</td>\n",
       "      <td>-0.608099</td>\n",
       "      <td>1.027717</td>\n",
       "      <td>Inlier</td>\n",
       "      <td>0.891777</td>\n",
       "      <td>0.508956</td>\n",
       "    </tr>\n",
       "    <tr>\n",
       "      <th>22691</th>\n",
       "      <td>-0.549573</td>\n",
       "      <td>-0.610075</td>\n",
       "      <td>1.251135</td>\n",
       "      <td>Inlier</td>\n",
       "      <td>0.864044</td>\n",
       "      <td>0.508956</td>\n",
       "    </tr>\n",
       "    <tr>\n",
       "      <th>22692</th>\n",
       "      <td>-0.551392</td>\n",
       "      <td>-0.613542</td>\n",
       "      <td>1.186102</td>\n",
       "      <td>Inlier</td>\n",
       "      <td>0.815399</td>\n",
       "      <td>0.508956</td>\n",
       "    </tr>\n",
       "    <tr>\n",
       "      <th>22693</th>\n",
       "      <td>-0.548885</td>\n",
       "      <td>-0.608765</td>\n",
       "      <td>0.948725</td>\n",
       "      <td>Inlier</td>\n",
       "      <td>0.882425</td>\n",
       "      <td>0.508956</td>\n",
       "    </tr>\n",
       "    <tr>\n",
       "      <th>22694</th>\n",
       "      <td>-0.552023</td>\n",
       "      <td>-0.614742</td>\n",
       "      <td>1.143046</td>\n",
       "      <td>Inlier</td>\n",
       "      <td>0.798551</td>\n",
       "      <td>0.508956</td>\n",
       "    </tr>\n",
       "  </tbody>\n",
       "</table>\n",
       "<p>22695 rows × 6 columns</p>\n",
       "</div>"
      ],
      "text/plain": [
       "              0         1  local_outlier_factor outliers_lof  \\\n",
       "0     -1.143708 -1.212546              1.151471       Inlier   \n",
       "1     -1.141072 -1.207525              1.006490       Inlier   \n",
       "2     -1.137839 -1.201365              1.024423       Inlier   \n",
       "3     -1.132351 -1.190911              1.593915       Inlier   \n",
       "4     -1.129115 -1.184746              0.991479       Inlier   \n",
       "...         ...       ...                   ...          ...   \n",
       "22690 -0.548535 -0.608099              1.027717       Inlier   \n",
       "22691 -0.549573 -0.610075              1.251135       Inlier   \n",
       "22692 -0.551392 -0.613542              1.186102       Inlier   \n",
       "22693 -0.548885 -0.608765              0.948725       Inlier   \n",
       "22694 -0.552023 -0.614742              1.143046       Inlier   \n",
       "\n",
       "       principal_feature1  principal_feature2  \n",
       "0               -0.869973            1.375415  \n",
       "1               -0.799515            1.375415  \n",
       "2               -0.713073            1.375415  \n",
       "3               -0.566379            1.375415  \n",
       "4               -0.479876            1.375415  \n",
       "...                   ...                 ...  \n",
       "22690            0.891777            0.508956  \n",
       "22691            0.864044            0.508956  \n",
       "22692            0.815399            0.508956  \n",
       "22693            0.882425            0.508956  \n",
       "22694            0.798551            0.508956  \n",
       "\n",
       "[22695 rows x 6 columns]"
      ]
     },
     "execution_count": 45,
     "metadata": {},
     "output_type": "execute_result"
    }
   ],
   "source": [
    "data2"
   ]
  },
  {
   "cell_type": "code",
   "execution_count": 46,
   "metadata": {},
   "outputs": [
    {
     "data": {
      "image/png": "[encoded data removed]",
      "text/plain": [
       "<Figure size 1080x288 with 1 Axes>"
      ]
     },
     "metadata": {
      "needs_background": "light"
     },
     "output_type": "display_data"
    }
   ],
   "source": [
    "# visualisation of anomaly with LOF cluster view\n",
    "fig, ax = plt.subplots(figsize = (15,4))\n",
    "colors = {'Inlier':'blue', 'Outlier':'red'}\n",
    "ax.scatter(data2['principal_feature1'], data2['principal_feature2'], c=data2['outliers_lof'].apply(lambda x: colors[x]))\n",
    "plt.show()"
   ]
  },
  {
   "cell_type": "code",
   "execution_count": 47,
   "metadata": {},
   "outputs": [
    {
     "data": {
      "text/html": [
       "<div>\n",
       "<style scoped>\n",
       "    .dataframe tbody tr th:only-of-type {\n",
       "        vertical-align: middle;\n",
       "    }\n",
       "\n",
       "    .dataframe tbody tr th {\n",
       "        vertical-align: top;\n",
       "    }\n",
       "\n",
       "    .dataframe thead th {\n",
       "        text-align: right;\n",
       "    }\n",
       "</style>\n",
       "<table border=\"1\" class=\"dataframe\">\n",
       "  <thead>\n",
       "    <tr style=\"text-align: right;\">\n",
       "      <th></th>\n",
       "      <th>timestamp</th>\n",
       "      <th>value</th>\n",
       "      <th>year</th>\n",
       "      <th>month</th>\n",
       "      <th>day</th>\n",
       "      <th>hour</th>\n",
       "      <th>minute</th>\n",
       "      <th>dayofweek</th>\n",
       "      <th>daylight</th>\n",
       "      <th>weekday</th>\n",
       "      <th>time_epoch</th>\n",
       "      <th>categories</th>\n",
       "      <th>0</th>\n",
       "      <th>1</th>\n",
       "      <th>local_outlier_factor</th>\n",
       "      <th>outliers_lof</th>\n",
       "      <th>principal_feature1</th>\n",
       "      <th>principal_feature2</th>\n",
       "    </tr>\n",
       "  </thead>\n",
       "  <tbody>\n",
       "    <tr>\n",
       "      <th>0</th>\n",
       "      <td>2013-12-02 21:15:00</td>\n",
       "      <td>23.315179</td>\n",
       "      <td>2013</td>\n",
       "      <td>12</td>\n",
       "      <td>2</td>\n",
       "      <td>21</td>\n",
       "      <td>15</td>\n",
       "      <td>0</td>\n",
       "      <td>1</td>\n",
       "      <td>1</td>\n",
       "      <td>13860189</td>\n",
       "      <td>3</td>\n",
       "      <td>-1.143708</td>\n",
       "      <td>-1.212546</td>\n",
       "      <td>1.151471</td>\n",
       "      <td>Inlier</td>\n",
       "      <td>-0.869973</td>\n",
       "      <td>1.375415</td>\n",
       "    </tr>\n",
       "    <tr>\n",
       "      <th>1</th>\n",
       "      <td>2013-12-02 21:20:00</td>\n",
       "      <td>23.853268</td>\n",
       "      <td>2013</td>\n",
       "      <td>12</td>\n",
       "      <td>2</td>\n",
       "      <td>21</td>\n",
       "      <td>20</td>\n",
       "      <td>0</td>\n",
       "      <td>1</td>\n",
       "      <td>1</td>\n",
       "      <td>13860192</td>\n",
       "      <td>3</td>\n",
       "      <td>-1.141072</td>\n",
       "      <td>-1.207525</td>\n",
       "      <td>1.006490</td>\n",
       "      <td>Inlier</td>\n",
       "      <td>-0.799515</td>\n",
       "      <td>1.375415</td>\n",
       "    </tr>\n",
       "    <tr>\n",
       "      <th>2</th>\n",
       "      <td>2013-12-02 21:25:00</td>\n",
       "      <td>24.513423</td>\n",
       "      <td>2013</td>\n",
       "      <td>12</td>\n",
       "      <td>2</td>\n",
       "      <td>21</td>\n",
       "      <td>25</td>\n",
       "      <td>0</td>\n",
       "      <td>1</td>\n",
       "      <td>1</td>\n",
       "      <td>13860195</td>\n",
       "      <td>3</td>\n",
       "      <td>-1.137839</td>\n",
       "      <td>-1.201365</td>\n",
       "      <td>1.024423</td>\n",
       "      <td>Inlier</td>\n",
       "      <td>-0.713073</td>\n",
       "      <td>1.375415</td>\n",
       "    </tr>\n",
       "    <tr>\n",
       "      <th>3</th>\n",
       "      <td>2013-12-02 21:30:00</td>\n",
       "      <td>25.633726</td>\n",
       "      <td>2013</td>\n",
       "      <td>12</td>\n",
       "      <td>2</td>\n",
       "      <td>21</td>\n",
       "      <td>30</td>\n",
       "      <td>0</td>\n",
       "      <td>1</td>\n",
       "      <td>1</td>\n",
       "      <td>13860198</td>\n",
       "      <td>3</td>\n",
       "      <td>-1.132351</td>\n",
       "      <td>-1.190911</td>\n",
       "      <td>1.593915</td>\n",
       "      <td>Inlier</td>\n",
       "      <td>-0.566379</td>\n",
       "      <td>1.375415</td>\n",
       "    </tr>\n",
       "    <tr>\n",
       "      <th>4</th>\n",
       "      <td>2013-12-02 21:35:00</td>\n",
       "      <td>26.294353</td>\n",
       "      <td>2013</td>\n",
       "      <td>12</td>\n",
       "      <td>2</td>\n",
       "      <td>21</td>\n",
       "      <td>35</td>\n",
       "      <td>0</td>\n",
       "      <td>1</td>\n",
       "      <td>1</td>\n",
       "      <td>13860201</td>\n",
       "      <td>3</td>\n",
       "      <td>-1.129115</td>\n",
       "      <td>-1.184746</td>\n",
       "      <td>0.991479</td>\n",
       "      <td>Inlier</td>\n",
       "      <td>-0.479876</td>\n",
       "      <td>1.375415</td>\n",
       "    </tr>\n",
       "    <tr>\n",
       "      <th>...</th>\n",
       "      <td>...</td>\n",
       "      <td>...</td>\n",
       "      <td>...</td>\n",
       "      <td>...</td>\n",
       "      <td>...</td>\n",
       "      <td>...</td>\n",
       "      <td>...</td>\n",
       "      <td>...</td>\n",
       "      <td>...</td>\n",
       "      <td>...</td>\n",
       "      <td>...</td>\n",
       "      <td>...</td>\n",
       "      <td>...</td>\n",
       "      <td>...</td>\n",
       "      <td>...</td>\n",
       "      <td>...</td>\n",
       "      <td>...</td>\n",
       "      <td>...</td>\n",
       "    </tr>\n",
       "    <tr>\n",
       "      <th>22690</th>\n",
       "      <td>2014-02-19 15:05:00</td>\n",
       "      <td>36.769675</td>\n",
       "      <td>2014</td>\n",
       "      <td>2</td>\n",
       "      <td>19</td>\n",
       "      <td>15</td>\n",
       "      <td>5</td>\n",
       "      <td>2</td>\n",
       "      <td>1</td>\n",
       "      <td>1</td>\n",
       "      <td>13928223</td>\n",
       "      <td>3</td>\n",
       "      <td>-0.548535</td>\n",
       "      <td>-0.608099</td>\n",
       "      <td>1.027717</td>\n",
       "      <td>Inlier</td>\n",
       "      <td>0.891777</td>\n",
       "      <td>0.508956</td>\n",
       "    </tr>\n",
       "    <tr>\n",
       "      <th>22691</th>\n",
       "      <td>2014-02-19 15:10:00</td>\n",
       "      <td>36.557871</td>\n",
       "      <td>2014</td>\n",
       "      <td>2</td>\n",
       "      <td>19</td>\n",
       "      <td>15</td>\n",
       "      <td>10</td>\n",
       "      <td>2</td>\n",
       "      <td>1</td>\n",
       "      <td>1</td>\n",
       "      <td>13928226</td>\n",
       "      <td>3</td>\n",
       "      <td>-0.549573</td>\n",
       "      <td>-0.610075</td>\n",
       "      <td>1.251135</td>\n",
       "      <td>Inlier</td>\n",
       "      <td>0.864044</td>\n",
       "      <td>0.508956</td>\n",
       "    </tr>\n",
       "    <tr>\n",
       "      <th>22692</th>\n",
       "      <td>2014-02-19 15:15:00</td>\n",
       "      <td>36.186371</td>\n",
       "      <td>2014</td>\n",
       "      <td>2</td>\n",
       "      <td>19</td>\n",
       "      <td>15</td>\n",
       "      <td>15</td>\n",
       "      <td>2</td>\n",
       "      <td>1</td>\n",
       "      <td>1</td>\n",
       "      <td>13928229</td>\n",
       "      <td>3</td>\n",
       "      <td>-0.551392</td>\n",
       "      <td>-0.613542</td>\n",
       "      <td>1.186102</td>\n",
       "      <td>Inlier</td>\n",
       "      <td>0.815399</td>\n",
       "      <td>0.508956</td>\n",
       "    </tr>\n",
       "    <tr>\n",
       "      <th>22693</th>\n",
       "      <td>2014-02-19 15:20:00</td>\n",
       "      <td>36.698251</td>\n",
       "      <td>2014</td>\n",
       "      <td>2</td>\n",
       "      <td>19</td>\n",
       "      <td>15</td>\n",
       "      <td>20</td>\n",
       "      <td>2</td>\n",
       "      <td>1</td>\n",
       "      <td>1</td>\n",
       "      <td>13928232</td>\n",
       "      <td>3</td>\n",
       "      <td>-0.548885</td>\n",
       "      <td>-0.608765</td>\n",
       "      <td>0.948725</td>\n",
       "      <td>Inlier</td>\n",
       "      <td>0.882425</td>\n",
       "      <td>0.508956</td>\n",
       "    </tr>\n",
       "    <tr>\n",
       "      <th>22694</th>\n",
       "      <td>2014-02-19 15:25:00</td>\n",
       "      <td>36.057700</td>\n",
       "      <td>2014</td>\n",
       "      <td>2</td>\n",
       "      <td>19</td>\n",
       "      <td>15</td>\n",
       "      <td>25</td>\n",
       "      <td>2</td>\n",
       "      <td>1</td>\n",
       "      <td>1</td>\n",
       "      <td>13928235</td>\n",
       "      <td>3</td>\n",
       "      <td>-0.552023</td>\n",
       "      <td>-0.614742</td>\n",
       "      <td>1.143046</td>\n",
       "      <td>Inlier</td>\n",
       "      <td>0.798551</td>\n",
       "      <td>0.508956</td>\n",
       "    </tr>\n",
       "  </tbody>\n",
       "</table>\n",
       "<p>22695 rows × 18 columns</p>\n",
       "</div>"
      ],
      "text/plain": [
       "                timestamp      value  year  month  day  hour  minute  \\\n",
       "0     2013-12-02 21:15:00  23.315179  2013     12    2    21      15   \n",
       "1     2013-12-02 21:20:00  23.853268  2013     12    2    21      20   \n",
       "2     2013-12-02 21:25:00  24.513423  2013     12    2    21      25   \n",
       "3     2013-12-02 21:30:00  25.633726  2013     12    2    21      30   \n",
       "4     2013-12-02 21:35:00  26.294353  2013     12    2    21      35   \n",
       "...                   ...        ...   ...    ...  ...   ...     ...   \n",
       "22690 2014-02-19 15:05:00  36.769675  2014      2   19    15       5   \n",
       "22691 2014-02-19 15:10:00  36.557871  2014      2   19    15      10   \n",
       "22692 2014-02-19 15:15:00  36.186371  2014      2   19    15      15   \n",
       "22693 2014-02-19 15:20:00  36.698251  2014      2   19    15      20   \n",
       "22694 2014-02-19 15:25:00  36.057700  2014      2   19    15      25   \n",
       "\n",
       "       dayofweek  daylight  weekday  time_epoch  categories         0  \\\n",
       "0              0         1        1    13860189           3 -1.143708   \n",
       "1              0         1        1    13860192           3 -1.141072   \n",
       "2              0         1        1    13860195           3 -1.137839   \n",
       "3              0         1        1    13860198           3 -1.132351   \n",
       "4              0         1        1    13860201           3 -1.129115   \n",
       "...          ...       ...      ...         ...         ...       ...   \n",
       "22690          2         1        1    13928223           3 -0.548535   \n",
       "22691          2         1        1    13928226           3 -0.549573   \n",
       "22692          2         1        1    13928229           3 -0.551392   \n",
       "22693          2         1        1    13928232           3 -0.548885   \n",
       "22694          2         1        1    13928235           3 -0.552023   \n",
       "\n",
       "              1  local_outlier_factor outliers_lof  principal_feature1  \\\n",
       "0     -1.212546              1.151471       Inlier           -0.869973   \n",
       "1     -1.207525              1.006490       Inlier           -0.799515   \n",
       "2     -1.201365              1.024423       Inlier           -0.713073   \n",
       "3     -1.190911              1.593915       Inlier           -0.566379   \n",
       "4     -1.184746              0.991479       Inlier           -0.479876   \n",
       "...         ...                   ...          ...                 ...   \n",
       "22690 -0.608099              1.027717       Inlier            0.891777   \n",
       "22691 -0.610075              1.251135       Inlier            0.864044   \n",
       "22692 -0.613542              1.186102       Inlier            0.815399   \n",
       "22693 -0.608765              0.948725       Inlier            0.882425   \n",
       "22694 -0.614742              1.143046       Inlier            0.798551   \n",
       "\n",
       "       principal_feature2  \n",
       "0                1.375415  \n",
       "1                1.375415  \n",
       "2                1.375415  \n",
       "3                1.375415  \n",
       "4                1.375415  \n",
       "...                   ...  \n",
       "22690            0.508956  \n",
       "22691            0.508956  \n",
       "22692            0.508956  \n",
       "22693            0.508956  \n",
       "22694            0.508956  \n",
       "\n",
       "[22695 rows x 18 columns]"
      ]
     },
     "metadata": {},
     "output_type": "display_data"
    }
   ],
   "source": [
    "lofvis= pd.concat([df, data2], axis = 1, join = 'inner')\n",
    "display(lofvis)"
   ]
  },
  {
   "cell_type": "code",
   "execution_count": 48,
   "metadata": {
    "colab": {
     "base_uri": "https://localhost:8080/",
     "height": 354
    },
    "id": "LAHi1PkbAGfl",
    "outputId": "9c51a701-8732-4b76-ff82-8baa524f26a9"
   },
   "outputs": [
    {
     "data": {
      "image/png": "[encoded data removed]",
      "text/plain": [
       "<Figure size 1080x288 with 1 Axes>"
      ]
     },
     "metadata": {
      "needs_background": "light"
     },
     "output_type": "display_data"
    }
   ],
   "source": [
    "# visualisation of anomaly throughout time (viz lof)\n",
    "fig, ax = plt.subplots(figsize = (15,4))\n",
    "\n",
    "a = lofvis.loc[lofvis['outliers_lof'] == 'Outlier', ['time_epoch', 'value']] #anomaly\n",
    "\n",
    "ax.plot(lofvis['time_epoch'], lofvis['value'], color='blue')\n",
    "ax.scatter(a['time_epoch'], a['value'], color='red')\n",
    "plt.show()"
   ]
  },
  {
   "cell_type": "markdown",
   "metadata": {},
   "source": [
    "## Supervised Learning"
   ]
  },
  {
   "cell_type": "code",
   "execution_count": 49,
   "metadata": {},
   "outputs": [
    {
     "data": {
      "text/html": [
       "<div>\n",
       "<style scoped>\n",
       "    .dataframe tbody tr th:only-of-type {\n",
       "        vertical-align: middle;\n",
       "    }\n",
       "\n",
       "    .dataframe tbody tr th {\n",
       "        vertical-align: top;\n",
       "    }\n",
       "\n",
       "    .dataframe thead th {\n",
       "        text-align: right;\n",
       "    }\n",
       "</style>\n",
       "<table border=\"1\" class=\"dataframe\">\n",
       "  <thead>\n",
       "    <tr style=\"text-align: right;\">\n",
       "      <th></th>\n",
       "      <th>0</th>\n",
       "      <th>1</th>\n",
       "      <th>2</th>\n",
       "      <th>3</th>\n",
       "      <th>4</th>\n",
       "      <th>clusters</th>\n",
       "      <th>distance_centroid</th>\n",
       "      <th>z_mod</th>\n",
       "      <th>outliers_z_mod</th>\n",
       "      <th>principal_feature1</th>\n",
       "      <th>principal_feature2</th>\n",
       "    </tr>\n",
       "  </thead>\n",
       "  <tbody>\n",
       "    <tr>\n",
       "      <th>21154</th>\n",
       "      <td>0.941176</td>\n",
       "      <td>-0.646322</td>\n",
       "      <td>0.709281</td>\n",
       "      <td>0.520725</td>\n",
       "      <td>0.622342</td>\n",
       "      <td>3</td>\n",
       "      <td>1.659316</td>\n",
       "      <td>2.197847</td>\n",
       "      <td>Inlier</td>\n",
       "      <td>0.941176</td>\n",
       "      <td>-0.646322</td>\n",
       "    </tr>\n",
       "    <tr>\n",
       "      <th>13963</th>\n",
       "      <td>0.306479</td>\n",
       "      <td>-0.646322</td>\n",
       "      <td>0.709281</td>\n",
       "      <td>-1.484001</td>\n",
       "      <td>0.622342</td>\n",
       "      <td>3</td>\n",
       "      <td>1.550938</td>\n",
       "      <td>1.752999</td>\n",
       "      <td>Inlier</td>\n",
       "      <td>0.306479</td>\n",
       "      <td>-0.646322</td>\n",
       "    </tr>\n",
       "    <tr>\n",
       "      <th>14551</th>\n",
       "      <td>-0.420916</td>\n",
       "      <td>-0.501912</td>\n",
       "      <td>0.709281</td>\n",
       "      <td>-0.481638</td>\n",
       "      <td>0.622342</td>\n",
       "      <td>3</td>\n",
       "      <td>1.265883</td>\n",
       "      <td>0.582966</td>\n",
       "      <td>Inlier</td>\n",
       "      <td>-0.420916</td>\n",
       "      <td>-0.501912</td>\n",
       "    </tr>\n",
       "  </tbody>\n",
       "</table>\n",
       "</div>"
      ],
      "text/plain": [
       "              0         1         2         3         4  clusters  \\\n",
       "21154  0.941176 -0.646322  0.709281  0.520725  0.622342         3   \n",
       "13963  0.306479 -0.646322  0.709281 -1.484001  0.622342         3   \n",
       "14551 -0.420916 -0.501912  0.709281 -0.481638  0.622342         3   \n",
       "\n",
       "       distance_centroid     z_mod outliers_z_mod  principal_feature1  \\\n",
       "21154           1.659316  2.197847         Inlier            0.941176   \n",
       "13963           1.550938  1.752999         Inlier            0.306479   \n",
       "14551           1.265883  0.582966         Inlier           -0.420916   \n",
       "\n",
       "       principal_feature2  \n",
       "21154           -0.646322  \n",
       "13963           -0.646322  \n",
       "14551           -0.501912  "
      ]
     },
     "execution_count": 49,
     "metadata": {},
     "output_type": "execute_result"
    }
   ],
   "source": [
    "data.sample(3)"
   ]
  },
  {
   "cell_type": "code",
   "execution_count": 50,
   "metadata": {},
   "outputs": [
    {
     "data": {
      "text/html": [
       "<div>\n",
       "<style scoped>\n",
       "    .dataframe tbody tr th:only-of-type {\n",
       "        vertical-align: middle;\n",
       "    }\n",
       "\n",
       "    .dataframe tbody tr th {\n",
       "        vertical-align: top;\n",
       "    }\n",
       "\n",
       "    .dataframe thead th {\n",
       "        text-align: right;\n",
       "    }\n",
       "</style>\n",
       "<table border=\"1\" class=\"dataframe\">\n",
       "  <thead>\n",
       "    <tr style=\"text-align: right;\">\n",
       "      <th></th>\n",
       "      <th>0</th>\n",
       "      <th>1</th>\n",
       "      <th>local_outlier_factor</th>\n",
       "      <th>outliers_lof</th>\n",
       "      <th>principal_feature1</th>\n",
       "      <th>principal_feature2</th>\n",
       "    </tr>\n",
       "  </thead>\n",
       "  <tbody>\n",
       "    <tr>\n",
       "      <th>18749</th>\n",
       "      <td>-0.572512</td>\n",
       "      <td>-1.212845</td>\n",
       "      <td>0.937490</td>\n",
       "      <td>Inlier</td>\n",
       "      <td>0.239976</td>\n",
       "      <td>1.519825</td>\n",
       "    </tr>\n",
       "    <tr>\n",
       "      <th>15334</th>\n",
       "      <td>1.371921</td>\n",
       "      <td>1.504898</td>\n",
       "      <td>0.970313</td>\n",
       "      <td>Inlier</td>\n",
       "      <td>-0.354534</td>\n",
       "      <td>-1.368371</td>\n",
       "    </tr>\n",
       "    <tr>\n",
       "      <th>20926</th>\n",
       "      <td>-0.283456</td>\n",
       "      <td>-0.367801</td>\n",
       "      <td>0.997803</td>\n",
       "      <td>Inlier</td>\n",
       "      <td>0.903685</td>\n",
       "      <td>0.075727</td>\n",
       "    </tr>\n",
       "  </tbody>\n",
       "</table>\n",
       "</div>"
      ],
      "text/plain": [
       "              0         1  local_outlier_factor outliers_lof  \\\n",
       "18749 -0.572512 -1.212845              0.937490       Inlier   \n",
       "15334  1.371921  1.504898              0.970313       Inlier   \n",
       "20926 -0.283456 -0.367801              0.997803       Inlier   \n",
       "\n",
       "       principal_feature1  principal_feature2  \n",
       "18749            0.239976            1.519825  \n",
       "15334           -0.354534           -1.368371  \n",
       "20926            0.903685            0.075727  "
      ]
     },
     "execution_count": 50,
     "metadata": {},
     "output_type": "execute_result"
    }
   ],
   "source": [
    "data2.sample(3)"
   ]
  },
  {
   "cell_type": "code",
   "execution_count": 64,
   "metadata": {},
   "outputs": [],
   "source": [
    "from sklearn.metrics import accuracy_score, precision_score, recall_score, f1_score, roc_auc_score\n",
    "\n",
    "def eval_classification(model, X_train, y_train, X_test, y_test):\n",
    "    y_pred = model.predict(X_test)\n",
    "    y_pred_train = model.predict(X_train)\n",
    "    y_pred_proba = model.predict_proba(X_test)\n",
    "    y_pred_proba_train = model.predict_proba(X_train)\n",
    "    \n",
    "    \n",
    "    print(\"Accuracy (Test Set): %.3f\" % accuracy_score(y_test, y_pred))\n",
    "    print(\"Accuracy (Train Set): %.3f\" % accuracy_score(y_train, y_pred_train))\n",
    "    print(\"Precision (Test Set): %.3f\" % precision_score(y_test, y_pred))\n",
    "    print(\"Precision (Train Set): %.3f\" % precision_score(y_train, y_pred_train))\n",
    "    print(\"Recall (Test Set): %.3f\" % recall_score(y_test, y_pred))\n",
    "    print(\"Recall (Train Set): %.3f\" % recall_score(y_train, y_pred_train))\n",
    "    print(\"F1-Score (Test Set): %.3f\" % f1_score(y_test, y_pred))\n",
    "    print(\"F1-Score (Train Set): %.3f\" % f1_score(y_train, y_pred_train))\n",
    "    print(\"ROC_AUC (test-proba): %.3f\" % roc_auc_score(y_test, y_pred_proba[:, 1]))\n",
    "    print(\"ROC_AUC (train-proba): %.3f\" % roc_auc_score(y_train, y_pred_proba_train[:, 1]))"
   ]
  },
  {
   "cell_type": "markdown",
   "metadata": {},
   "source": [
    "### Semi Supervised K-Means Clustering"
   ]
  },
  {
   "cell_type": "code",
   "execution_count": 53,
   "metadata": {},
   "outputs": [],
   "source": [
    "#Train test split data k-means clustering\n",
    "\n",
    "data['outliers_z_mod_flag'] = np.where(data['outliers_z_mod']=='Outlier',1,0)"
   ]
  },
  {
   "cell_type": "code",
   "execution_count": 60,
   "metadata": {},
   "outputs": [
    {
     "data": {
      "text/html": [
       "<div>\n",
       "<style scoped>\n",
       "    .dataframe tbody tr th:only-of-type {\n",
       "        vertical-align: middle;\n",
       "    }\n",
       "\n",
       "    .dataframe tbody tr th {\n",
       "        vertical-align: top;\n",
       "    }\n",
       "\n",
       "    .dataframe thead th {\n",
       "        text-align: right;\n",
       "    }\n",
       "</style>\n",
       "<table border=\"1\" class=\"dataframe\">\n",
       "  <thead>\n",
       "    <tr style=\"text-align: right;\">\n",
       "      <th></th>\n",
       "      <th>0</th>\n",
       "      <th>1</th>\n",
       "      <th>2</th>\n",
       "      <th>3</th>\n",
       "      <th>4</th>\n",
       "      <th>clusters</th>\n",
       "      <th>distance_centroid</th>\n",
       "      <th>z_mod</th>\n",
       "      <th>outliers_z_mod</th>\n",
       "      <th>principal_feature1</th>\n",
       "      <th>principal_feature2</th>\n",
       "      <th>outliers_z_mod_flag</th>\n",
       "    </tr>\n",
       "  </thead>\n",
       "  <tbody>\n",
       "    <tr>\n",
       "      <th>0</th>\n",
       "      <td>-0.869973</td>\n",
       "      <td>1.375415</td>\n",
       "      <td>0.709281</td>\n",
       "      <td>-1.484001</td>\n",
       "      <td>0.622342</td>\n",
       "      <td>3</td>\n",
       "      <td>1.783660</td>\n",
       "      <td>2.708230</td>\n",
       "      <td>Inlier</td>\n",
       "      <td>-0.869973</td>\n",
       "      <td>1.375415</td>\n",
       "      <td>0</td>\n",
       "    </tr>\n",
       "    <tr>\n",
       "      <th>1</th>\n",
       "      <td>-0.799515</td>\n",
       "      <td>1.375415</td>\n",
       "      <td>0.709281</td>\n",
       "      <td>-1.484001</td>\n",
       "      <td>0.622342</td>\n",
       "      <td>3</td>\n",
       "      <td>1.737685</td>\n",
       "      <td>2.519522</td>\n",
       "      <td>Inlier</td>\n",
       "      <td>-0.799515</td>\n",
       "      <td>1.375415</td>\n",
       "      <td>0</td>\n",
       "    </tr>\n",
       "    <tr>\n",
       "      <th>2</th>\n",
       "      <td>-0.713073</td>\n",
       "      <td>1.375415</td>\n",
       "      <td>0.709281</td>\n",
       "      <td>-1.484001</td>\n",
       "      <td>0.622342</td>\n",
       "      <td>3</td>\n",
       "      <td>1.683596</td>\n",
       "      <td>2.297506</td>\n",
       "      <td>Inlier</td>\n",
       "      <td>-0.713073</td>\n",
       "      <td>1.375415</td>\n",
       "      <td>0</td>\n",
       "    </tr>\n",
       "    <tr>\n",
       "      <th>3</th>\n",
       "      <td>-0.566379</td>\n",
       "      <td>1.375415</td>\n",
       "      <td>0.709281</td>\n",
       "      <td>-1.484001</td>\n",
       "      <td>0.622342</td>\n",
       "      <td>3</td>\n",
       "      <td>1.598327</td>\n",
       "      <td>1.947512</td>\n",
       "      <td>Inlier</td>\n",
       "      <td>-0.566379</td>\n",
       "      <td>1.375415</td>\n",
       "      <td>0</td>\n",
       "    </tr>\n",
       "    <tr>\n",
       "      <th>4</th>\n",
       "      <td>-0.479876</td>\n",
       "      <td>1.375415</td>\n",
       "      <td>0.709281</td>\n",
       "      <td>-1.484001</td>\n",
       "      <td>0.622342</td>\n",
       "      <td>3</td>\n",
       "      <td>1.552353</td>\n",
       "      <td>1.758808</td>\n",
       "      <td>Inlier</td>\n",
       "      <td>-0.479876</td>\n",
       "      <td>1.375415</td>\n",
       "      <td>0</td>\n",
       "    </tr>\n",
       "    <tr>\n",
       "      <th>...</th>\n",
       "      <td>...</td>\n",
       "      <td>...</td>\n",
       "      <td>...</td>\n",
       "      <td>...</td>\n",
       "      <td>...</td>\n",
       "      <td>...</td>\n",
       "      <td>...</td>\n",
       "      <td>...</td>\n",
       "      <td>...</td>\n",
       "      <td>...</td>\n",
       "      <td>...</td>\n",
       "      <td>...</td>\n",
       "    </tr>\n",
       "    <tr>\n",
       "      <th>22690</th>\n",
       "      <td>0.891777</td>\n",
       "      <td>0.508956</td>\n",
       "      <td>0.709281</td>\n",
       "      <td>-0.481638</td>\n",
       "      <td>0.622342</td>\n",
       "      <td>3</td>\n",
       "      <td>0.594138</td>\n",
       "      <td>-2.174278</td>\n",
       "      <td>Inlier</td>\n",
       "      <td>0.891777</td>\n",
       "      <td>0.508956</td>\n",
       "      <td>0</td>\n",
       "    </tr>\n",
       "    <tr>\n",
       "      <th>22691</th>\n",
       "      <td>0.864044</td>\n",
       "      <td>0.508956</td>\n",
       "      <td>0.709281</td>\n",
       "      <td>-0.481638</td>\n",
       "      <td>0.622342</td>\n",
       "      <td>3</td>\n",
       "      <td>0.567210</td>\n",
       "      <td>-2.284805</td>\n",
       "      <td>Inlier</td>\n",
       "      <td>0.864044</td>\n",
       "      <td>0.508956</td>\n",
       "      <td>0</td>\n",
       "    </tr>\n",
       "    <tr>\n",
       "      <th>22692</th>\n",
       "      <td>0.815399</td>\n",
       "      <td>0.508956</td>\n",
       "      <td>0.709281</td>\n",
       "      <td>-0.481638</td>\n",
       "      <td>0.622342</td>\n",
       "      <td>3</td>\n",
       "      <td>0.520184</td>\n",
       "      <td>-2.477828</td>\n",
       "      <td>Inlier</td>\n",
       "      <td>0.815399</td>\n",
       "      <td>0.508956</td>\n",
       "      <td>0</td>\n",
       "    </tr>\n",
       "    <tr>\n",
       "      <th>22693</th>\n",
       "      <td>0.882425</td>\n",
       "      <td>0.508956</td>\n",
       "      <td>0.709281</td>\n",
       "      <td>-0.481638</td>\n",
       "      <td>0.622342</td>\n",
       "      <td>3</td>\n",
       "      <td>0.585049</td>\n",
       "      <td>-2.211584</td>\n",
       "      <td>Inlier</td>\n",
       "      <td>0.882425</td>\n",
       "      <td>0.508956</td>\n",
       "      <td>0</td>\n",
       "    </tr>\n",
       "    <tr>\n",
       "      <th>22694</th>\n",
       "      <td>0.798551</td>\n",
       "      <td>0.508956</td>\n",
       "      <td>0.709281</td>\n",
       "      <td>-0.481638</td>\n",
       "      <td>0.622342</td>\n",
       "      <td>3</td>\n",
       "      <td>0.503968</td>\n",
       "      <td>-2.544389</td>\n",
       "      <td>Inlier</td>\n",
       "      <td>0.798551</td>\n",
       "      <td>0.508956</td>\n",
       "      <td>0</td>\n",
       "    </tr>\n",
       "  </tbody>\n",
       "</table>\n",
       "<p>22695 rows × 12 columns</p>\n",
       "</div>"
      ],
      "text/plain": [
       "              0         1         2         3         4  clusters  \\\n",
       "0     -0.869973  1.375415  0.709281 -1.484001  0.622342         3   \n",
       "1     -0.799515  1.375415  0.709281 -1.484001  0.622342         3   \n",
       "2     -0.713073  1.375415  0.709281 -1.484001  0.622342         3   \n",
       "3     -0.566379  1.375415  0.709281 -1.484001  0.622342         3   \n",
       "4     -0.479876  1.375415  0.709281 -1.484001  0.622342         3   \n",
       "...         ...       ...       ...       ...       ...       ...   \n",
       "22690  0.891777  0.508956  0.709281 -0.481638  0.622342         3   \n",
       "22691  0.864044  0.508956  0.709281 -0.481638  0.622342         3   \n",
       "22692  0.815399  0.508956  0.709281 -0.481638  0.622342         3   \n",
       "22693  0.882425  0.508956  0.709281 -0.481638  0.622342         3   \n",
       "22694  0.798551  0.508956  0.709281 -0.481638  0.622342         3   \n",
       "\n",
       "       distance_centroid     z_mod outliers_z_mod  principal_feature1  \\\n",
       "0               1.783660  2.708230         Inlier           -0.869973   \n",
       "1               1.737685  2.519522         Inlier           -0.799515   \n",
       "2               1.683596  2.297506         Inlier           -0.713073   \n",
       "3               1.598327  1.947512         Inlier           -0.566379   \n",
       "4               1.552353  1.758808         Inlier           -0.479876   \n",
       "...                  ...       ...            ...                 ...   \n",
       "22690           0.594138 -2.174278         Inlier            0.891777   \n",
       "22691           0.567210 -2.284805         Inlier            0.864044   \n",
       "22692           0.520184 -2.477828         Inlier            0.815399   \n",
       "22693           0.585049 -2.211584         Inlier            0.882425   \n",
       "22694           0.503968 -2.544389         Inlier            0.798551   \n",
       "\n",
       "       principal_feature2  outliers_z_mod_flag  \n",
       "0                1.375415                    0  \n",
       "1                1.375415                    0  \n",
       "2                1.375415                    0  \n",
       "3                1.375415                    0  \n",
       "4                1.375415                    0  \n",
       "...                   ...                  ...  \n",
       "22690            0.508956                    0  \n",
       "22691            0.508956                    0  \n",
       "22692            0.508956                    0  \n",
       "22693            0.508956                    0  \n",
       "22694            0.508956                    0  \n",
       "\n",
       "[22695 rows x 12 columns]"
      ]
     },
     "execution_count": 60,
     "metadata": {},
     "output_type": "execute_result"
    }
   ],
   "source": [
    "data"
   ]
  },
  {
   "cell_type": "code",
   "execution_count": 54,
   "metadata": {},
   "outputs": [],
   "source": [
    "ct12 = data.drop(['outliers_z_mod'], axis = 1)"
   ]
  },
  {
   "cell_type": "code",
   "execution_count": 61,
   "metadata": {},
   "outputs": [],
   "source": [
    "X = ct12.iloc[:,:-1]\n",
    "y = ct12['outliers_z_mod_flag']"
   ]
  },
  {
   "cell_type": "code",
   "execution_count": 62,
   "metadata": {},
   "outputs": [],
   "source": [
    "from sklearn.model_selection import train_test_split\n",
    "\n",
    "X_train, X_test, y_train, y_test = train_test_split(X, y, test_size=0.3, random_state = 21)"
   ]
  },
  {
   "cell_type": "code",
   "execution_count": 65,
   "metadata": {},
   "outputs": [
    {
     "name": "stdout",
     "output_type": "stream",
     "text": [
      "Accuracy (Test Set): 0.999\n",
      "Accuracy (Train Set): 1.000\n",
      "Precision (Test Set): 0.997\n",
      "Precision (Train Set): 1.000\n",
      "Recall (Test Set): 0.989\n",
      "Recall (Train Set): 0.992\n",
      "F1-Score (Test Set): 0.993\n",
      "F1-Score (Train Set): 0.996\n",
      "ROC_AUC (test-proba): 1.000\n",
      "ROC_AUC (train-proba): 1.000\n"
     ]
    }
   ],
   "source": [
    "from sklearn.linear_model import LogisticRegression\n",
    "\n",
    "logreg = LogisticRegression()\n",
    "logreg.fit(X_train,y_train)\n",
    "\n",
    "eval_classification(logreg, X_train, y_train, X_test, y_test)"
   ]
  },
  {
   "cell_type": "markdown",
   "metadata": {},
   "source": [
    "### Semi supervised LOF"
   ]
  },
  {
   "cell_type": "code",
   "execution_count": 66,
   "metadata": {},
   "outputs": [],
   "source": [
    "#Train test split data LOF\n",
    "\n",
    "data2['outliers_lof_flag'] = np.where(data2['outliers_lof']=='Outlier',1,0)"
   ]
  },
  {
   "cell_type": "code",
   "execution_count": 67,
   "metadata": {},
   "outputs": [],
   "source": [
    "ct22 = data2.drop(['outliers_lof'], axis = 1)"
   ]
  },
  {
   "cell_type": "code",
   "execution_count": 68,
   "metadata": {},
   "outputs": [
    {
     "data": {
      "text/html": [
       "<div>\n",
       "<style scoped>\n",
       "    .dataframe tbody tr th:only-of-type {\n",
       "        vertical-align: middle;\n",
       "    }\n",
       "\n",
       "    .dataframe tbody tr th {\n",
       "        vertical-align: top;\n",
       "    }\n",
       "\n",
       "    .dataframe thead th {\n",
       "        text-align: right;\n",
       "    }\n",
       "</style>\n",
       "<table border=\"1\" class=\"dataframe\">\n",
       "  <thead>\n",
       "    <tr style=\"text-align: right;\">\n",
       "      <th></th>\n",
       "      <th>0</th>\n",
       "      <th>1</th>\n",
       "      <th>local_outlier_factor</th>\n",
       "      <th>principal_feature1</th>\n",
       "      <th>principal_feature2</th>\n",
       "      <th>outliers_lof_flag</th>\n",
       "    </tr>\n",
       "  </thead>\n",
       "  <tbody>\n",
       "    <tr>\n",
       "      <th>0</th>\n",
       "      <td>-1.143708</td>\n",
       "      <td>-1.212546</td>\n",
       "      <td>1.151471</td>\n",
       "      <td>-0.869973</td>\n",
       "      <td>1.375415</td>\n",
       "      <td>0</td>\n",
       "    </tr>\n",
       "    <tr>\n",
       "      <th>1</th>\n",
       "      <td>-1.141072</td>\n",
       "      <td>-1.207525</td>\n",
       "      <td>1.006490</td>\n",
       "      <td>-0.799515</td>\n",
       "      <td>1.375415</td>\n",
       "      <td>0</td>\n",
       "    </tr>\n",
       "    <tr>\n",
       "      <th>2</th>\n",
       "      <td>-1.137839</td>\n",
       "      <td>-1.201365</td>\n",
       "      <td>1.024423</td>\n",
       "      <td>-0.713073</td>\n",
       "      <td>1.375415</td>\n",
       "      <td>0</td>\n",
       "    </tr>\n",
       "  </tbody>\n",
       "</table>\n",
       "</div>"
      ],
      "text/plain": [
       "          0         1  local_outlier_factor  principal_feature1  \\\n",
       "0 -1.143708 -1.212546              1.151471           -0.869973   \n",
       "1 -1.141072 -1.207525              1.006490           -0.799515   \n",
       "2 -1.137839 -1.201365              1.024423           -0.713073   \n",
       "\n",
       "   principal_feature2  outliers_lof_flag  \n",
       "0            1.375415                  0  \n",
       "1            1.375415                  0  \n",
       "2            1.375415                  0  "
      ]
     },
     "execution_count": 68,
     "metadata": {},
     "output_type": "execute_result"
    }
   ],
   "source": [
    "ct22.head(3)"
   ]
  },
  {
   "cell_type": "code",
   "execution_count": 69,
   "metadata": {},
   "outputs": [
    {
     "data": {
      "text/plain": [
       "0    22647\n",
       "1       48\n",
       "Name: outliers_lof_flag, dtype: int64"
      ]
     },
     "execution_count": 69,
     "metadata": {},
     "output_type": "execute_result"
    }
   ],
   "source": [
    "ct22['outliers_lof_flag'].value_counts()"
   ]
  },
  {
   "cell_type": "code",
   "execution_count": 70,
   "metadata": {},
   "outputs": [],
   "source": [
    "X = ct22.drop(labels = ['outliers_lof_flag'], axis = 1)\n",
    "y = ct22['outliers_lof_flag']"
   ]
  },
  {
   "cell_type": "code",
   "execution_count": 71,
   "metadata": {},
   "outputs": [
    {
     "name": "stdout",
     "output_type": "stream",
     "text": [
      "(22695, 5) (22695,)\n",
      "(15886, 10) (6809, 10) (15886,) (6809,)\n"
     ]
    }
   ],
   "source": [
    "print(X.shape, y.shape)\n",
    "print(X_train.shape, X_test.shape, y_train.shape, y_test.shape)"
   ]
  },
  {
   "cell_type": "code",
   "execution_count": 72,
   "metadata": {},
   "outputs": [
    {
     "name": "stdout",
     "output_type": "stream",
     "text": [
      "Accuracy (Test Set): 0.999\n",
      "Accuracy (Train Set): 1.000\n",
      "Precision (Test Set): 0.997\n",
      "Precision (Train Set): 1.000\n",
      "Recall (Test Set): 0.989\n",
      "Recall (Train Set): 0.992\n",
      "F1-Score (Test Set): 0.993\n",
      "F1-Score (Train Set): 0.996\n",
      "ROC_AUC (test-proba): 1.000\n",
      "ROC_AUC (train-proba): 1.000\n"
     ]
    }
   ],
   "source": [
    "from sklearn.linear_model import LogisticRegression\n",
    "\n",
    "logreg = LogisticRegression()\n",
    "logreg.fit(X_train,y_train)\n",
    "\n",
    "eval_classification(logreg, X_train, y_train, X_test, y_test)"
   ]
  },
  {
   "cell_type": "markdown",
   "metadata": {
    "id": "gGmPqi5zMosn"
   },
   "source": [
    "## Kesimpulan"
   ]
  },
  {
   "cell_type": "markdown",
   "metadata": {},
   "source": [
    "1. Metode k-means clustering dapat mendetekssi outlier lebih banyak daripada LOF\n",
    "2. Supervised learning dapat di combine dengan unsupervised learning untuk mendeteksi outlier, dengan cara mengambil label outlier dari hasil unsupervised learning"
   ]
  },
  {
   "cell_type": "code",
   "execution_count": null,
   "metadata": {},
   "outputs": [],
   "source": []
  }
 ],
 "metadata": {
  "colab": {
   "name": "test sml.ipynb",
   "provenance": []
  },
  "kernelspec": {
   "display_name": "Python 3 (ipykernel)",
   "language": "python",
   "name": "python3"
  },
  "language_info": {
   "codemirror_mode": {
    "name": "ipython",
    "version": 3
   },
   "file_extension": ".py",
   "mimetype": "text/x-python",
   "name": "python",
   "nbconvert_exporter": "python",
   "pygments_lexer": "ipython3",
   "version": "3.9.7"
  }
 },
 "nbformat": 4,
 "nbformat_minor": 4
}
